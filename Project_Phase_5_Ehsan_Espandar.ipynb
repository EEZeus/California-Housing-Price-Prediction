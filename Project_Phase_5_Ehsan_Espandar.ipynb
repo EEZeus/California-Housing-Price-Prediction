{
  "cells": [
    {
      "cell_type": "markdown",
      "id": "ea045f96-a3d1-4876-80c7-3c8444e191d7",
      "metadata": {
        "id": "ea045f96-a3d1-4876-80c7-3c8444e191d7"
      },
      "source": [
        "# Data Mining Project - Phase 5 - Ehsan Espandar - 99442011\n",
        "\n",
        "<div lang='rtl'>\n",
        "    با سلام، به دلیل پیشنیاز بودن داده های پیش پردازش شده ی فاز سه و چهار آنها نیز در این نوتبوک آورده شده اند. لطفا به سکشن فاز پنج برای بررسی فایل مراجعه کنید\n",
        "</div>"
      ]
    },
    {
      "cell_type": "code",
      "execution_count": 3,
      "id": "11ff63dd-e54f-4dfd-a15d-181cd3453122",
      "metadata": {
        "id": "11ff63dd-e54f-4dfd-a15d-181cd3453122"
      },
      "outputs": [],
      "source": [
        "import pandas as pd"
      ]
    },
    {
      "cell_type": "code",
      "execution_count": 4,
      "id": "3d2ba20a-2755-4891-8df6-77957b276772",
      "metadata": {
        "id": "3d2ba20a-2755-4891-8df6-77957b276772"
      },
      "outputs": [],
      "source": [
        "data_packet = pd.read_csv('housing.csv')"
      ]
    },
    {
      "cell_type": "code",
      "execution_count": 5,
      "id": "1dbe3367-d5c2-4a87-a386-3a13ecc5d805",
      "metadata": {
        "colab": {
          "base_uri": "https://localhost:8080/"
        },
        "id": "1dbe3367-d5c2-4a87-a386-3a13ecc5d805",
        "outputId": "aee28d72-196c-4689-a7ea-01cbb09097de"
      },
      "outputs": [
        {
          "output_type": "stream",
          "name": "stdout",
          "text": [
            "16512 16512\n",
            "4128 4128\n"
          ]
        }
      ],
      "source": [
        "from sklearn.model_selection import train_test_split\n",
        "\n",
        "X = data_packet.drop('median_house_value', axis=1)\n",
        "y = data_packet['median_house_value']\n",
        "\n",
        "\n",
        "X_train, X_test, y_train, y_test = train_test_split(X, y, test_size=0.2, random_state=2021)\n",
        "\n",
        "print(len(X_train),len(y_train))\n",
        "print(len(X_test),len(y_test))"
      ]
    },
    {
      "cell_type": "markdown",
      "id": "7f6d2db3-658a-45d7-8a3f-8ca4e4e7ac00",
      "metadata": {
        "id": "7f6d2db3-658a-45d7-8a3f-8ca4e4e7ac00"
      },
      "source": [
        "## Phase 4 (It is repeated because phase 5 needs the information of label and prepared data.)"
      ]
    },
    {
      "cell_type": "code",
      "execution_count": 6,
      "id": "ca030a2f-8b87-402b-b03c-3d9699855b81",
      "metadata": {
        "colab": {
          "base_uri": "https://localhost:8080/"
        },
        "id": "ca030a2f-8b87-402b-b03c-3d9699855b81",
        "outputId": "25bde930-15ac-4fc2-87d5-216a58e04514"
      },
      "outputs": [
        {
          "output_type": "stream",
          "name": "stdout",
          "text": [
            "       longitude  latitude  housing_median_age  total_rooms  total_bedrooms  \\\n",
            "2782     -114.66     32.74                17.0       1388.0           386.0   \n",
            "8513     -118.31     33.89                35.0       2144.0           423.0   \n",
            "2163     -119.82     36.77                41.0       1441.0           274.0   \n",
            "5232     -118.24     33.94                42.0        380.0           106.0   \n",
            "9766     -121.66     36.37                 9.0       1580.0           287.0   \n",
            "...          ...       ...                 ...          ...             ...   \n",
            "16347    -121.35     38.02                16.0       1665.0           311.0   \n",
            "20318    -119.15     34.20                25.0       3445.0           898.0   \n",
            "2669     -115.51     33.24                32.0       1995.0           523.0   \n",
            "17536    -121.88     37.35                49.0       1728.0           350.0   \n",
            "6201     -117.89     34.08                25.0       2115.0           489.0   \n",
            "\n",
            "       population  households  median_income ocean_proximity  \\\n",
            "2782        775.0       320.0         1.2049          INLAND   \n",
            "8513       1192.0       417.0         4.1458       <1H OCEAN   \n",
            "2163        646.0       296.0         3.0568          INLAND   \n",
            "5232        411.0       100.0         0.9705       <1H OCEAN   \n",
            "9766        465.0       208.0         6.1668       <1H OCEAN   \n",
            "...           ...         ...            ...             ...   \n",
            "16347      1301.0       259.0         2.8403          INLAND   \n",
            "20318      5558.0       894.0         3.0972      NEAR OCEAN   \n",
            "2669       1069.0       410.0         1.6552          INLAND   \n",
            "17536      1146.0       391.0         3.5781       <1H OCEAN   \n",
            "6201       1107.0       477.0         3.1949       <1H OCEAN   \n",
            "\n",
            "       median_house_value  \n",
            "2782              44000.0  \n",
            "8513             231500.0  \n",
            "2163              71300.0  \n",
            "5232              90000.0  \n",
            "9766             405800.0  \n",
            "...                   ...  \n",
            "16347            132300.0  \n",
            "20318            169300.0  \n",
            "2669              43300.0  \n",
            "17536            193000.0  \n",
            "6201             207400.0  \n",
            "\n",
            "[16512 rows x 10 columns]\n"
          ]
        }
      ],
      "source": [
        "import copy\n",
        "import pandas as pd\n",
        "\n",
        "# Assuming X_train and y_train are your feature and target DataFrames respectively\n",
        "X_train_copy = copy.copy(X_train)\n",
        "y_train_copy = copy.copy(y_train)\n",
        "\n",
        "# Concatenate X_train and y_train along columns axis\n",
        "data = pd.concat([X_train_copy, y_train_copy], axis=1)\n",
        "\n",
        "\n",
        "print(data)"
      ]
    },
    {
      "cell_type": "code",
      "execution_count": 7,
      "id": "60269b57-9db3-4daa-bd75-a19df1e94997",
      "metadata": {
        "colab": {
          "base_uri": "https://localhost:8080/"
        },
        "id": "60269b57-9db3-4daa-bd75-a19df1e94997",
        "outputId": "f440c81c-fc03-4bc0-ab8d-2d3617119602"
      },
      "outputs": [
        {
          "output_type": "stream",
          "name": "stdout",
          "text": [
            "Copied label 'median_house_value':\n",
            " 2782      44000.0\n",
            "8513     231500.0\n",
            "2163      71300.0\n",
            "5232      90000.0\n",
            "9766     405800.0\n",
            "           ...   \n",
            "16347    132300.0\n",
            "20318    169300.0\n",
            "2669      43300.0\n",
            "17536    193000.0\n",
            "6201     207400.0\n",
            "Name: median_house_value, Length: 16512, dtype: float64\n",
            "\n",
            "Dataset without 'median_house_value':\n",
            "        longitude  latitude  housing_median_age  total_rooms  total_bedrooms  \\\n",
            "2782     -114.66     32.74                17.0       1388.0           386.0   \n",
            "8513     -118.31     33.89                35.0       2144.0           423.0   \n",
            "2163     -119.82     36.77                41.0       1441.0           274.0   \n",
            "5232     -118.24     33.94                42.0        380.0           106.0   \n",
            "9766     -121.66     36.37                 9.0       1580.0           287.0   \n",
            "...          ...       ...                 ...          ...             ...   \n",
            "16347    -121.35     38.02                16.0       1665.0           311.0   \n",
            "20318    -119.15     34.20                25.0       3445.0           898.0   \n",
            "2669     -115.51     33.24                32.0       1995.0           523.0   \n",
            "17536    -121.88     37.35                49.0       1728.0           350.0   \n",
            "6201     -117.89     34.08                25.0       2115.0           489.0   \n",
            "\n",
            "       population  households  median_income ocean_proximity  \n",
            "2782        775.0       320.0         1.2049          INLAND  \n",
            "8513       1192.0       417.0         4.1458       <1H OCEAN  \n",
            "2163        646.0       296.0         3.0568          INLAND  \n",
            "5232        411.0       100.0         0.9705       <1H OCEAN  \n",
            "9766        465.0       208.0         6.1668       <1H OCEAN  \n",
            "...           ...         ...            ...             ...  \n",
            "16347      1301.0       259.0         2.8403          INLAND  \n",
            "20318      5558.0       894.0         3.0972      NEAR OCEAN  \n",
            "2669       1069.0       410.0         1.6552          INLAND  \n",
            "17536      1146.0       391.0         3.5781       <1H OCEAN  \n",
            "6201       1107.0       477.0         3.1949       <1H OCEAN  \n",
            "\n",
            "[16512 rows x 9 columns]\n"
          ]
        }
      ],
      "source": [
        "label = data[\"median_house_value\"].copy()\n",
        "\n",
        "data_without_label = data.drop(\"median_house_value\", axis=1)\n",
        "\n",
        "# Display the copied feature and the dataset without \"ocean_proximity\"\n",
        "print(\"Copied label 'median_house_value':\\n\", label)\n",
        "print(\"\\nDataset without 'median_house_value':\\n\", data_without_label)\n",
        "\n"
      ]
    },
    {
      "cell_type": "code",
      "execution_count": 8,
      "id": "a50943d6-d70c-4516-963e-e41d4193c0f5",
      "metadata": {
        "colab": {
          "base_uri": "https://localhost:8080/"
        },
        "id": "a50943d6-d70c-4516-963e-e41d4193c0f5",
        "outputId": "bececb2d-3c3e-4f19-942d-08b9695a0bb9"
      },
      "outputs": [
        {
          "output_type": "stream",
          "name": "stdout",
          "text": [
            "Copied feature 'ocean_proximity':\n",
            " 2782         INLAND\n",
            "8513      <1H OCEAN\n",
            "2163         INLAND\n",
            "5232      <1H OCEAN\n",
            "9766      <1H OCEAN\n",
            "            ...    \n",
            "16347        INLAND\n",
            "20318    NEAR OCEAN\n",
            "2669         INLAND\n",
            "17536     <1H OCEAN\n",
            "6201      <1H OCEAN\n",
            "Name: ocean_proximity, Length: 16512, dtype: object\n",
            "\n",
            "Dataset without 'ocean_proximity':\n",
            "        longitude  latitude  housing_median_age  total_rooms  total_bedrooms  \\\n",
            "2782     -114.66     32.74                17.0       1388.0           386.0   \n",
            "8513     -118.31     33.89                35.0       2144.0           423.0   \n",
            "2163     -119.82     36.77                41.0       1441.0           274.0   \n",
            "5232     -118.24     33.94                42.0        380.0           106.0   \n",
            "9766     -121.66     36.37                 9.0       1580.0           287.0   \n",
            "...          ...       ...                 ...          ...             ...   \n",
            "16347    -121.35     38.02                16.0       1665.0           311.0   \n",
            "20318    -119.15     34.20                25.0       3445.0           898.0   \n",
            "2669     -115.51     33.24                32.0       1995.0           523.0   \n",
            "17536    -121.88     37.35                49.0       1728.0           350.0   \n",
            "6201     -117.89     34.08                25.0       2115.0           489.0   \n",
            "\n",
            "       population  households  median_income  \n",
            "2782        775.0       320.0         1.2049  \n",
            "8513       1192.0       417.0         4.1458  \n",
            "2163        646.0       296.0         3.0568  \n",
            "5232        411.0       100.0         0.9705  \n",
            "9766        465.0       208.0         6.1668  \n",
            "...           ...         ...            ...  \n",
            "16347      1301.0       259.0         2.8403  \n",
            "20318      5558.0       894.0         3.0972  \n",
            "2669       1069.0       410.0         1.6552  \n",
            "17536      1146.0       391.0         3.5781  \n",
            "6201       1107.0       477.0         3.1949  \n",
            "\n",
            "[16512 rows x 8 columns]\n"
          ]
        }
      ],
      "source": [
        "# Create a copy of the \"ocean_proximity\" feature\n",
        "ocean_proximity_copy = data_without_label[\"ocean_proximity\"].copy()\n",
        "\n",
        "# Remove the \"ocean_proximity\" feature from the original dataset\n",
        "data_without_ocean_proximity = data_without_label.drop(\"ocean_proximity\", axis=1)\n",
        "\n",
        "# Display the copied feature and the dataset without \"ocean_proximity\"\n",
        "print(\"Copied feature 'ocean_proximity':\\n\", ocean_proximity_copy)\n",
        "print(\"\\nDataset without 'ocean_proximity':\\n\", data_without_ocean_proximity)\n"
      ]
    },
    {
      "cell_type": "code",
      "execution_count": 9,
      "id": "7a5ec9d4-8716-4434-83a9-db0942c6b984",
      "metadata": {
        "colab": {
          "base_uri": "https://localhost:8080/"
        },
        "id": "7a5ec9d4-8716-4434-83a9-db0942c6b984",
        "outputId": "f99bdbbe-de0f-4318-97f9-c7d810d6f06c"
      },
      "outputs": [
        {
          "output_type": "stream",
          "name": "stdout",
          "text": [
            "       longitude  latitude  housing_median_age  total_rooms  total_bedrooms  \\\n",
            "2782     -114.66     32.74                17.0       1388.0           386.0   \n",
            "8513     -118.31     33.89                35.0       2144.0           423.0   \n",
            "2163     -119.82     36.77                41.0       1441.0           274.0   \n",
            "5232     -118.24     33.94                42.0        380.0           106.0   \n",
            "9766     -121.66     36.37                 9.0       1580.0           287.0   \n",
            "...          ...       ...                 ...          ...             ...   \n",
            "16347    -121.35     38.02                16.0       1665.0           311.0   \n",
            "20318    -119.15     34.20                25.0       3445.0           898.0   \n",
            "2669     -115.51     33.24                32.0       1995.0           523.0   \n",
            "17536    -121.88     37.35                49.0       1728.0           350.0   \n",
            "6201     -117.89     34.08                25.0       2115.0           489.0   \n",
            "\n",
            "       population  households  median_income  \n",
            "2782        775.0       320.0         1.2049  \n",
            "8513       1192.0       417.0         4.1458  \n",
            "2163        646.0       296.0         3.0568  \n",
            "5232        411.0       100.0         0.9705  \n",
            "9766        465.0       208.0         6.1668  \n",
            "...           ...         ...            ...  \n",
            "16347      1301.0       259.0         2.8403  \n",
            "20318      5558.0       894.0         3.0972  \n",
            "2669       1069.0       410.0         1.6552  \n",
            "17536      1146.0       391.0         3.5781  \n",
            "6201       1107.0       477.0         3.1949  \n",
            "\n",
            "[16512 rows x 8 columns]\n"
          ]
        }
      ],
      "source": [
        "from sklearn.impute import SimpleImputer\n",
        "\n",
        "#As data has a normal distribution and not heavy amount of outliers then the 'mean' strategy is the method we use to normalize the dataset.\n",
        "\n",
        "# Selecting only numerical features\n",
        "numerical_features = ['longitude', 'latitude', 'housing_median_age', 'total_rooms', 'total_bedrooms', 'population', 'households', 'median_income']\n",
        "\n",
        "# Creating a SimpleImputer instance with a chosen strategy (e.g., mean)\n",
        "imputer = SimpleImputer(strategy='mean')\n",
        "\n",
        "# Fitting the imputer on the data and transforming it to fill missing values\n",
        "data_without_ocean_proximity[numerical_features] = imputer.fit_transform(data_without_ocean_proximity[numerical_features])\n",
        "\n",
        "print(data_without_ocean_proximity)\n",
        "\n"
      ]
    },
    {
      "cell_type": "code",
      "execution_count": 10,
      "id": "3b6f7bbb-0951-44be-b07a-77b9c7cc3dc3",
      "metadata": {
        "colab": {
          "base_uri": "https://localhost:8080/",
          "height": 383
        },
        "id": "3b6f7bbb-0951-44be-b07a-77b9c7cc3dc3",
        "outputId": "d71864b4-66cd-4fe6-9e53-8db33655d4bf"
      },
      "outputs": [
        {
          "output_type": "execute_result",
          "data": {
            "text/plain": [
              "   longitude  latitude  housing_median_age  total_rooms  total_bedrooms  \\\n",
              "0    -114.66     32.74                17.0       1388.0           386.0   \n",
              "1    -118.31     33.89                35.0       2144.0           423.0   \n",
              "2    -119.82     36.77                41.0       1441.0           274.0   \n",
              "3    -118.24     33.94                42.0        380.0           106.0   \n",
              "4    -121.66     36.37                 9.0       1580.0           287.0   \n",
              "5    -121.85     37.36                15.0       3148.0          1116.0   \n",
              "6    -122.49     37.79                52.0       2488.0           281.0   \n",
              "7    -117.87     33.76                 6.0       2992.0          1194.0   \n",
              "8    -118.22     33.88                35.0        998.0           313.0   \n",
              "9    -122.20     39.15                33.0       1064.0           174.0   \n",
              "\n",
              "   population  households  median_income  rooms_per_household  \\\n",
              "0       775.0       320.0         1.2049             4.337500   \n",
              "1      1192.0       417.0         4.1458             5.141487   \n",
              "2       646.0       296.0         3.0568             4.868243   \n",
              "3       411.0       100.0         0.9705             3.800000   \n",
              "4       465.0       208.0         6.1668             7.596154   \n",
              "5      3556.0      1037.0         3.0466             3.035680   \n",
              "6       805.0       295.0        10.7058             8.433898   \n",
              "7      3800.0      1130.0         2.2460             2.647788   \n",
              "8      1335.0       311.0         1.6574             3.209003   \n",
              "9       434.0       147.0         3.1250             7.238095   \n",
              "\n",
              "   population_per_household  bedrooms_per_room  \n",
              "0                  2.421875           0.278098  \n",
              "1                  2.858513           0.197295  \n",
              "2                  2.182432           0.190146  \n",
              "3                  4.110000           0.278947  \n",
              "4                  2.235577           0.181646  \n",
              "5                  3.429122           0.354511  \n",
              "6                  2.728814           0.112942  \n",
              "7                  3.362832           0.399064  \n",
              "8                  4.292605           0.313627  \n",
              "9                  2.952381           0.163534  "
            ],
            "text/html": [
              "\n",
              "  <div id=\"df-9a3897fd-350e-4088-bd15-fb38fb618ec7\" class=\"colab-df-container\">\n",
              "    <div>\n",
              "<style scoped>\n",
              "    .dataframe tbody tr th:only-of-type {\n",
              "        vertical-align: middle;\n",
              "    }\n",
              "\n",
              "    .dataframe tbody tr th {\n",
              "        vertical-align: top;\n",
              "    }\n",
              "\n",
              "    .dataframe thead th {\n",
              "        text-align: right;\n",
              "    }\n",
              "</style>\n",
              "<table border=\"1\" class=\"dataframe\">\n",
              "  <thead>\n",
              "    <tr style=\"text-align: right;\">\n",
              "      <th></th>\n",
              "      <th>longitude</th>\n",
              "      <th>latitude</th>\n",
              "      <th>housing_median_age</th>\n",
              "      <th>total_rooms</th>\n",
              "      <th>total_bedrooms</th>\n",
              "      <th>population</th>\n",
              "      <th>households</th>\n",
              "      <th>median_income</th>\n",
              "      <th>rooms_per_household</th>\n",
              "      <th>population_per_household</th>\n",
              "      <th>bedrooms_per_room</th>\n",
              "    </tr>\n",
              "  </thead>\n",
              "  <tbody>\n",
              "    <tr>\n",
              "      <th>0</th>\n",
              "      <td>-114.66</td>\n",
              "      <td>32.74</td>\n",
              "      <td>17.0</td>\n",
              "      <td>1388.0</td>\n",
              "      <td>386.0</td>\n",
              "      <td>775.0</td>\n",
              "      <td>320.0</td>\n",
              "      <td>1.2049</td>\n",
              "      <td>4.337500</td>\n",
              "      <td>2.421875</td>\n",
              "      <td>0.278098</td>\n",
              "    </tr>\n",
              "    <tr>\n",
              "      <th>1</th>\n",
              "      <td>-118.31</td>\n",
              "      <td>33.89</td>\n",
              "      <td>35.0</td>\n",
              "      <td>2144.0</td>\n",
              "      <td>423.0</td>\n",
              "      <td>1192.0</td>\n",
              "      <td>417.0</td>\n",
              "      <td>4.1458</td>\n",
              "      <td>5.141487</td>\n",
              "      <td>2.858513</td>\n",
              "      <td>0.197295</td>\n",
              "    </tr>\n",
              "    <tr>\n",
              "      <th>2</th>\n",
              "      <td>-119.82</td>\n",
              "      <td>36.77</td>\n",
              "      <td>41.0</td>\n",
              "      <td>1441.0</td>\n",
              "      <td>274.0</td>\n",
              "      <td>646.0</td>\n",
              "      <td>296.0</td>\n",
              "      <td>3.0568</td>\n",
              "      <td>4.868243</td>\n",
              "      <td>2.182432</td>\n",
              "      <td>0.190146</td>\n",
              "    </tr>\n",
              "    <tr>\n",
              "      <th>3</th>\n",
              "      <td>-118.24</td>\n",
              "      <td>33.94</td>\n",
              "      <td>42.0</td>\n",
              "      <td>380.0</td>\n",
              "      <td>106.0</td>\n",
              "      <td>411.0</td>\n",
              "      <td>100.0</td>\n",
              "      <td>0.9705</td>\n",
              "      <td>3.800000</td>\n",
              "      <td>4.110000</td>\n",
              "      <td>0.278947</td>\n",
              "    </tr>\n",
              "    <tr>\n",
              "      <th>4</th>\n",
              "      <td>-121.66</td>\n",
              "      <td>36.37</td>\n",
              "      <td>9.0</td>\n",
              "      <td>1580.0</td>\n",
              "      <td>287.0</td>\n",
              "      <td>465.0</td>\n",
              "      <td>208.0</td>\n",
              "      <td>6.1668</td>\n",
              "      <td>7.596154</td>\n",
              "      <td>2.235577</td>\n",
              "      <td>0.181646</td>\n",
              "    </tr>\n",
              "    <tr>\n",
              "      <th>5</th>\n",
              "      <td>-121.85</td>\n",
              "      <td>37.36</td>\n",
              "      <td>15.0</td>\n",
              "      <td>3148.0</td>\n",
              "      <td>1116.0</td>\n",
              "      <td>3556.0</td>\n",
              "      <td>1037.0</td>\n",
              "      <td>3.0466</td>\n",
              "      <td>3.035680</td>\n",
              "      <td>3.429122</td>\n",
              "      <td>0.354511</td>\n",
              "    </tr>\n",
              "    <tr>\n",
              "      <th>6</th>\n",
              "      <td>-122.49</td>\n",
              "      <td>37.79</td>\n",
              "      <td>52.0</td>\n",
              "      <td>2488.0</td>\n",
              "      <td>281.0</td>\n",
              "      <td>805.0</td>\n",
              "      <td>295.0</td>\n",
              "      <td>10.7058</td>\n",
              "      <td>8.433898</td>\n",
              "      <td>2.728814</td>\n",
              "      <td>0.112942</td>\n",
              "    </tr>\n",
              "    <tr>\n",
              "      <th>7</th>\n",
              "      <td>-117.87</td>\n",
              "      <td>33.76</td>\n",
              "      <td>6.0</td>\n",
              "      <td>2992.0</td>\n",
              "      <td>1194.0</td>\n",
              "      <td>3800.0</td>\n",
              "      <td>1130.0</td>\n",
              "      <td>2.2460</td>\n",
              "      <td>2.647788</td>\n",
              "      <td>3.362832</td>\n",
              "      <td>0.399064</td>\n",
              "    </tr>\n",
              "    <tr>\n",
              "      <th>8</th>\n",
              "      <td>-118.22</td>\n",
              "      <td>33.88</td>\n",
              "      <td>35.0</td>\n",
              "      <td>998.0</td>\n",
              "      <td>313.0</td>\n",
              "      <td>1335.0</td>\n",
              "      <td>311.0</td>\n",
              "      <td>1.6574</td>\n",
              "      <td>3.209003</td>\n",
              "      <td>4.292605</td>\n",
              "      <td>0.313627</td>\n",
              "    </tr>\n",
              "    <tr>\n",
              "      <th>9</th>\n",
              "      <td>-122.20</td>\n",
              "      <td>39.15</td>\n",
              "      <td>33.0</td>\n",
              "      <td>1064.0</td>\n",
              "      <td>174.0</td>\n",
              "      <td>434.0</td>\n",
              "      <td>147.0</td>\n",
              "      <td>3.1250</td>\n",
              "      <td>7.238095</td>\n",
              "      <td>2.952381</td>\n",
              "      <td>0.163534</td>\n",
              "    </tr>\n",
              "  </tbody>\n",
              "</table>\n",
              "</div>\n",
              "    <div class=\"colab-df-buttons\">\n",
              "\n",
              "  <div class=\"colab-df-container\">\n",
              "    <button class=\"colab-df-convert\" onclick=\"convertToInteractive('df-9a3897fd-350e-4088-bd15-fb38fb618ec7')\"\n",
              "            title=\"Convert this dataframe to an interactive table.\"\n",
              "            style=\"display:none;\">\n",
              "\n",
              "  <svg xmlns=\"http://www.w3.org/2000/svg\" height=\"24px\" viewBox=\"0 -960 960 960\">\n",
              "    <path d=\"M120-120v-720h720v720H120Zm60-500h600v-160H180v160Zm220 220h160v-160H400v160Zm0 220h160v-160H400v160ZM180-400h160v-160H180v160Zm440 0h160v-160H620v160ZM180-180h160v-160H180v160Zm440 0h160v-160H620v160Z\"/>\n",
              "  </svg>\n",
              "    </button>\n",
              "\n",
              "  <style>\n",
              "    .colab-df-container {\n",
              "      display:flex;\n",
              "      gap: 12px;\n",
              "    }\n",
              "\n",
              "    .colab-df-convert {\n",
              "      background-color: #E8F0FE;\n",
              "      border: none;\n",
              "      border-radius: 50%;\n",
              "      cursor: pointer;\n",
              "      display: none;\n",
              "      fill: #1967D2;\n",
              "      height: 32px;\n",
              "      padding: 0 0 0 0;\n",
              "      width: 32px;\n",
              "    }\n",
              "\n",
              "    .colab-df-convert:hover {\n",
              "      background-color: #E2EBFA;\n",
              "      box-shadow: 0px 1px 2px rgba(60, 64, 67, 0.3), 0px 1px 3px 1px rgba(60, 64, 67, 0.15);\n",
              "      fill: #174EA6;\n",
              "    }\n",
              "\n",
              "    .colab-df-buttons div {\n",
              "      margin-bottom: 4px;\n",
              "    }\n",
              "\n",
              "    [theme=dark] .colab-df-convert {\n",
              "      background-color: #3B4455;\n",
              "      fill: #D2E3FC;\n",
              "    }\n",
              "\n",
              "    [theme=dark] .colab-df-convert:hover {\n",
              "      background-color: #434B5C;\n",
              "      box-shadow: 0px 1px 3px 1px rgba(0, 0, 0, 0.15);\n",
              "      filter: drop-shadow(0px 1px 2px rgba(0, 0, 0, 0.3));\n",
              "      fill: #FFFFFF;\n",
              "    }\n",
              "  </style>\n",
              "\n",
              "    <script>\n",
              "      const buttonEl =\n",
              "        document.querySelector('#df-9a3897fd-350e-4088-bd15-fb38fb618ec7 button.colab-df-convert');\n",
              "      buttonEl.style.display =\n",
              "        google.colab.kernel.accessAllowed ? 'block' : 'none';\n",
              "\n",
              "      async function convertToInteractive(key) {\n",
              "        const element = document.querySelector('#df-9a3897fd-350e-4088-bd15-fb38fb618ec7');\n",
              "        const dataTable =\n",
              "          await google.colab.kernel.invokeFunction('convertToInteractive',\n",
              "                                                    [key], {});\n",
              "        if (!dataTable) return;\n",
              "\n",
              "        const docLinkHtml = 'Like what you see? Visit the ' +\n",
              "          '<a target=\"_blank\" href=https://colab.research.google.com/notebooks/data_table.ipynb>data table notebook</a>'\n",
              "          + ' to learn more about interactive tables.';\n",
              "        element.innerHTML = '';\n",
              "        dataTable['output_type'] = 'display_data';\n",
              "        await google.colab.output.renderOutput(dataTable, element);\n",
              "        const docLink = document.createElement('div');\n",
              "        docLink.innerHTML = docLinkHtml;\n",
              "        element.appendChild(docLink);\n",
              "      }\n",
              "    </script>\n",
              "  </div>\n",
              "\n",
              "\n",
              "<div id=\"df-85a90c98-eeab-4609-a21d-4d64797f6720\">\n",
              "  <button class=\"colab-df-quickchart\" onclick=\"quickchart('df-85a90c98-eeab-4609-a21d-4d64797f6720')\"\n",
              "            title=\"Suggest charts\"\n",
              "            style=\"display:none;\">\n",
              "\n",
              "<svg xmlns=\"http://www.w3.org/2000/svg\" height=\"24px\"viewBox=\"0 0 24 24\"\n",
              "     width=\"24px\">\n",
              "    <g>\n",
              "        <path d=\"M19 3H5c-1.1 0-2 .9-2 2v14c0 1.1.9 2 2 2h14c1.1 0 2-.9 2-2V5c0-1.1-.9-2-2-2zM9 17H7v-7h2v7zm4 0h-2V7h2v10zm4 0h-2v-4h2v4z\"/>\n",
              "    </g>\n",
              "</svg>\n",
              "  </button>\n",
              "\n",
              "<style>\n",
              "  .colab-df-quickchart {\n",
              "      --bg-color: #E8F0FE;\n",
              "      --fill-color: #1967D2;\n",
              "      --hover-bg-color: #E2EBFA;\n",
              "      --hover-fill-color: #174EA6;\n",
              "      --disabled-fill-color: #AAA;\n",
              "      --disabled-bg-color: #DDD;\n",
              "  }\n",
              "\n",
              "  [theme=dark] .colab-df-quickchart {\n",
              "      --bg-color: #3B4455;\n",
              "      --fill-color: #D2E3FC;\n",
              "      --hover-bg-color: #434B5C;\n",
              "      --hover-fill-color: #FFFFFF;\n",
              "      --disabled-bg-color: #3B4455;\n",
              "      --disabled-fill-color: #666;\n",
              "  }\n",
              "\n",
              "  .colab-df-quickchart {\n",
              "    background-color: var(--bg-color);\n",
              "    border: none;\n",
              "    border-radius: 50%;\n",
              "    cursor: pointer;\n",
              "    display: none;\n",
              "    fill: var(--fill-color);\n",
              "    height: 32px;\n",
              "    padding: 0;\n",
              "    width: 32px;\n",
              "  }\n",
              "\n",
              "  .colab-df-quickchart:hover {\n",
              "    background-color: var(--hover-bg-color);\n",
              "    box-shadow: 0 1px 2px rgba(60, 64, 67, 0.3), 0 1px 3px 1px rgba(60, 64, 67, 0.15);\n",
              "    fill: var(--button-hover-fill-color);\n",
              "  }\n",
              "\n",
              "  .colab-df-quickchart-complete:disabled,\n",
              "  .colab-df-quickchart-complete:disabled:hover {\n",
              "    background-color: var(--disabled-bg-color);\n",
              "    fill: var(--disabled-fill-color);\n",
              "    box-shadow: none;\n",
              "  }\n",
              "\n",
              "  .colab-df-spinner {\n",
              "    border: 2px solid var(--fill-color);\n",
              "    border-color: transparent;\n",
              "    border-bottom-color: var(--fill-color);\n",
              "    animation:\n",
              "      spin 1s steps(1) infinite;\n",
              "  }\n",
              "\n",
              "  @keyframes spin {\n",
              "    0% {\n",
              "      border-color: transparent;\n",
              "      border-bottom-color: var(--fill-color);\n",
              "      border-left-color: var(--fill-color);\n",
              "    }\n",
              "    20% {\n",
              "      border-color: transparent;\n",
              "      border-left-color: var(--fill-color);\n",
              "      border-top-color: var(--fill-color);\n",
              "    }\n",
              "    30% {\n",
              "      border-color: transparent;\n",
              "      border-left-color: var(--fill-color);\n",
              "      border-top-color: var(--fill-color);\n",
              "      border-right-color: var(--fill-color);\n",
              "    }\n",
              "    40% {\n",
              "      border-color: transparent;\n",
              "      border-right-color: var(--fill-color);\n",
              "      border-top-color: var(--fill-color);\n",
              "    }\n",
              "    60% {\n",
              "      border-color: transparent;\n",
              "      border-right-color: var(--fill-color);\n",
              "    }\n",
              "    80% {\n",
              "      border-color: transparent;\n",
              "      border-right-color: var(--fill-color);\n",
              "      border-bottom-color: var(--fill-color);\n",
              "    }\n",
              "    90% {\n",
              "      border-color: transparent;\n",
              "      border-bottom-color: var(--fill-color);\n",
              "    }\n",
              "  }\n",
              "</style>\n",
              "\n",
              "  <script>\n",
              "    async function quickchart(key) {\n",
              "      const quickchartButtonEl =\n",
              "        document.querySelector('#' + key + ' button');\n",
              "      quickchartButtonEl.disabled = true;  // To prevent multiple clicks.\n",
              "      quickchartButtonEl.classList.add('colab-df-spinner');\n",
              "      try {\n",
              "        const charts = await google.colab.kernel.invokeFunction(\n",
              "            'suggestCharts', [key], {});\n",
              "      } catch (error) {\n",
              "        console.error('Error during call to suggestCharts:', error);\n",
              "      }\n",
              "      quickchartButtonEl.classList.remove('colab-df-spinner');\n",
              "      quickchartButtonEl.classList.add('colab-df-quickchart-complete');\n",
              "    }\n",
              "    (() => {\n",
              "      let quickchartButtonEl =\n",
              "        document.querySelector('#df-85a90c98-eeab-4609-a21d-4d64797f6720 button');\n",
              "      quickchartButtonEl.style.display =\n",
              "        google.colab.kernel.accessAllowed ? 'block' : 'none';\n",
              "    })();\n",
              "  </script>\n",
              "</div>\n",
              "    </div>\n",
              "  </div>\n"
            ]
          },
          "metadata": {},
          "execution_count": 10
        }
      ],
      "source": [
        "imputed_data_df = pd.DataFrame(data_without_ocean_proximity, columns=numerical_features)\n",
        "import numpy as np\n",
        "from sklearn.base import BaseEstimator, TransformerMixin\n",
        "rooms_ix,bedrooms_ix,population_ix,household_ix=3,4,5,6\n",
        "\n",
        "class CombinedAttributesAdder(BaseEstimator,TransformerMixin):\n",
        "    def fit(self,x,y=None):\n",
        "        return self\n",
        "    def transform(self,x,y=None):\n",
        "        rooms_per_household=x[:,rooms_ix]/x[:,household_ix]\n",
        "        population_per_household=x[:,population_ix]/x[:,household_ix]\n",
        "        bedrooms_per_room=x[:,bedrooms_ix]/x[:,rooms_ix]\n",
        "        return np.c_[x,rooms_per_household,population_per_household,bedrooms_per_room]\n",
        "\n",
        "custom=CombinedAttributesAdder()\n",
        "data_custom_tr_top=custom.transform(imputed_data_df.values)\n",
        "data_custom_tr=pd.DataFrame(data_custom_tr_top)\n",
        "columns=list(imputed_data_df)\n",
        "columns.append('rooms_per_household')\n",
        "columns.append('population_per_household')\n",
        "columns.append('bedrooms_per_room')\n",
        "data_custom_tr.columns=columns\n",
        "data_custom_tr.head(10)"
      ]
    },
    {
      "cell_type": "code",
      "execution_count": 11,
      "id": "ec556363-8a87-46f8-a592-7ca3eefc0b1d",
      "metadata": {
        "colab": {
          "base_uri": "https://localhost:8080/"
        },
        "id": "ec556363-8a87-46f8-a592-7ca3eefc0b1d",
        "outputId": "fec8192d-26b8-4eaf-8438-af68592cff24"
      },
      "outputs": [
        {
          "output_type": "stream",
          "name": "stdout",
          "text": [
            "       longitude  latitude  housing_median_age  total_rooms  total_bedrooms  \\\n",
            "0       2.453114 -1.356402           -0.919431    -0.567531       -0.361595   \n",
            "1       0.630571 -0.818013            0.507393    -0.224185       -0.274180   \n",
            "2      -0.123413  0.530301            0.983001    -0.543460       -0.626200   \n",
            "3       0.665524 -0.794605            1.062269    -1.025325       -1.023109   \n",
            "4      -1.042174  0.343035           -1.553576    -0.480332       -0.595487   \n",
            "...          ...       ...                 ...          ...             ...   \n",
            "16507  -0.887383  1.115506           -0.998699    -0.441728       -0.538786   \n",
            "16508   0.211136 -0.672882           -0.285287     0.366678        0.848031   \n",
            "16509   2.028686 -1.122320            0.269589    -0.291855       -0.037925   \n",
            "16510  -1.152026  0.801836            1.617146    -0.413116       -0.446646   \n",
            "16511   0.840288 -0.729061           -0.285287    -0.237356       -0.118252   \n",
            "\n",
            "       population  households  median_income  rooms_per_household  \\\n",
            "0       -0.568757   -0.467793      -1.405487            -0.423899   \n",
            "1       -0.205156   -0.215835       0.147943            -0.113188   \n",
            "2       -0.681238   -0.530133      -0.427284            -0.218787   \n",
            "3       -0.886145   -1.039244      -1.529301            -0.631622   \n",
            "4       -0.839060   -0.758713       1.215468             0.835447   \n",
            "...           ...         ...            ...                  ...   \n",
            "16507   -0.110114   -0.626241      -0.541642             0.384221   \n",
            "16508    3.601757    1.023174      -0.405944            -0.610959   \n",
            "16509   -0.312405   -0.234018      -1.167631            -0.219710   \n",
            "16510   -0.245266   -0.283370      -0.151925            -0.392233   \n",
            "16511   -0.279271   -0.059985      -0.354337            -0.386620   \n",
            "\n",
            "       population_per_household  bedrooms_per_room  \n",
            "0                     -0.060476           0.884580  \n",
            "1                     -0.019373          -0.246127  \n",
            "2                     -0.083016          -0.346166  \n",
            "3                      0.098435           0.896466  \n",
            "4                     -0.078014          -0.465112  \n",
            "...                         ...                ...  \n",
            "16507                  0.184396          -0.393169  \n",
            "16508                  0.296778           0.640672  \n",
            "16509                 -0.043020           0.661490  \n",
            "16510                 -0.012555          -0.172641  \n",
            "16511                 -0.069995           0.228400  \n",
            "\n",
            "[16512 rows x 11 columns]\n"
          ]
        }
      ],
      "source": [
        "from sklearn.preprocessing import StandardScaler\n",
        "\n",
        "# Selecting only numerical features\n",
        "numerical_features = ['longitude', 'latitude', 'housing_median_age', 'total_rooms', 'total_bedrooms', 'population', 'households', 'median_income', 'rooms_per_household', 'population_per_household', 'bedrooms_per_room']\n",
        "\n",
        "# Create a StandardScaler instance\n",
        "scaler = StandardScaler()\n",
        "\n",
        "# Fit the scaler on the data and transform it to standardize the features\n",
        "data_custom_tr[numerical_features] = scaler.fit_transform(data_custom_tr[numerical_features])\n",
        "\n",
        "print(data_custom_tr)"
      ]
    },
    {
      "cell_type": "code",
      "execution_count": 12,
      "id": "d1985216-bfe9-41a7-a214-61430c6e0835",
      "metadata": {
        "colab": {
          "base_uri": "https://localhost:8080/"
        },
        "id": "d1985216-bfe9-41a7-a214-61430c6e0835",
        "outputId": "9e40e7f5-d3c9-44ec-dd7f-a94bad35bfba"
      },
      "outputs": [
        {
          "output_type": "stream",
          "name": "stdout",
          "text": [
            "[1 0 1 ... 1 0 0]\n"
          ]
        }
      ],
      "source": [
        "from sklearn.preprocessing import LabelEncoder\n",
        "\n",
        "# Create a LabelEncoder instance\n",
        "label_encoder = LabelEncoder()\n",
        "\n",
        "# Fit and transform the 'ocean_proximity' column\n",
        "ocean_proximity_copy = label_encoder.fit_transform(ocean_proximity_copy)\n",
        "print(ocean_proximity_copy)\n"
      ]
    },
    {
      "cell_type": "code",
      "execution_count": 13,
      "id": "172c5c98-1132-4890-bc5c-4a5823c846ae",
      "metadata": {
        "colab": {
          "base_uri": "https://localhost:8080/"
        },
        "id": "172c5c98-1132-4890-bc5c-4a5823c846ae",
        "outputId": "677fac66-62aa-4f22-f894-b1f36e25d01e"
      },
      "outputs": [
        {
          "output_type": "stream",
          "name": "stdout",
          "text": [
            "       ocean_proximity\n",
            "0                    1\n",
            "1                    0\n",
            "2                    1\n",
            "3                    0\n",
            "4                    0\n",
            "...                ...\n",
            "16507                1\n",
            "16508                4\n",
            "16509                1\n",
            "16510                0\n",
            "16511                0\n",
            "\n",
            "[16512 rows x 1 columns]\n"
          ]
        }
      ],
      "source": [
        "from sklearn.preprocessing import OneHotEncoder\n",
        "import pandas as pd\n",
        "\n",
        "# Assuming 'ocean_proximity_copy' is your encoded column as a NumPy array\n",
        "ocean_proximity_copy = ocean_proximity_copy.reshape(-1, 1)  # Reshape to a 2D array\n",
        "\n",
        "# Create a OneHotEncoder\n",
        "onehot_encoder = OneHotEncoder()\n",
        "\n",
        "# Fit and transform the specified column using the OneHotEncoder\n",
        "ocean_proximity_onehot = onehot_encoder.fit_transform(ocean_proximity_copy)\n",
        "\n",
        "# Extract the dense representation as an array\n",
        "ocean_proximity_onehot_array = ocean_proximity_onehot.toarray()\n",
        "\n",
        "# Convert to a DataFrame\n",
        "ocean_proximity_onehot_df = pd.DataFrame(ocean_proximity_onehot_array, columns=[\"ocean_proximity_0\", \"ocean_proximity_1\", \"ocean_proximity_2\", \"ocean_proximity_3\", \"ocean_proximity_4\"])\n",
        "\n",
        "# Find the index of the maximum value along the columns (axis=1)\n",
        "ocean_proximity_encoded = ocean_proximity_onehot_df.idxmax(axis=1)\n",
        "\n",
        "# Extract the numeric part from the column names\n",
        "ocean_proximity_encoded = ocean_proximity_encoded.str.extract(r'(\\d+)')\n",
        "\n",
        "# Rename the column\n",
        "ocean_proximity_encoded.columns = [\"ocean_proximity\"]\n",
        "\n",
        "# Convert the result to integers\n",
        "ocean_proximity_encoded = ocean_proximity_encoded.astype(int)\n",
        "\n",
        "# Display the resulting Series\n",
        "print(ocean_proximity_encoded)\n"
      ]
    },
    {
      "cell_type": "code",
      "execution_count": 14,
      "id": "52f3e7aa-d1bb-4f0c-977d-53bd3c8d02d0",
      "metadata": {
        "colab": {
          "base_uri": "https://localhost:8080/"
        },
        "id": "52f3e7aa-d1bb-4f0c-977d-53bd3c8d02d0",
        "outputId": "dfc20f5c-1b37-4e5b-c36c-5a1df62e4f04"
      },
      "outputs": [
        {
          "output_type": "stream",
          "name": "stdout",
          "text": [
            "       longitude  latitude  housing_median_age  total_rooms  total_bedrooms  \\\n",
            "0       2.453114 -1.356402           -0.919431    -0.567531       -0.361595   \n",
            "1       0.630571 -0.818013            0.507393    -0.224185       -0.274180   \n",
            "2      -0.123413  0.530301            0.983001    -0.543460       -0.626200   \n",
            "3       0.665524 -0.794605            1.062269    -1.025325       -1.023109   \n",
            "4      -1.042174  0.343035           -1.553576    -0.480332       -0.595487   \n",
            "...          ...       ...                 ...          ...             ...   \n",
            "16507  -0.887383  1.115506           -0.998699    -0.441728       -0.538786   \n",
            "16508   0.211136 -0.672882           -0.285287     0.366678        0.848031   \n",
            "16509   2.028686 -1.122320            0.269589    -0.291855       -0.037925   \n",
            "16510  -1.152026  0.801836            1.617146    -0.413116       -0.446646   \n",
            "16511   0.840288 -0.729061           -0.285287    -0.237356       -0.118252   \n",
            "\n",
            "       population  households  median_income  rooms_per_household  \\\n",
            "0       -0.568757   -0.467793      -1.405487            -0.423899   \n",
            "1       -0.205156   -0.215835       0.147943            -0.113188   \n",
            "2       -0.681238   -0.530133      -0.427284            -0.218787   \n",
            "3       -0.886145   -1.039244      -1.529301            -0.631622   \n",
            "4       -0.839060   -0.758713       1.215468             0.835447   \n",
            "...           ...         ...            ...                  ...   \n",
            "16507   -0.110114   -0.626241      -0.541642             0.384221   \n",
            "16508    3.601757    1.023174      -0.405944            -0.610959   \n",
            "16509   -0.312405   -0.234018      -1.167631            -0.219710   \n",
            "16510   -0.245266   -0.283370      -0.151925            -0.392233   \n",
            "16511   -0.279271   -0.059985      -0.354337            -0.386620   \n",
            "\n",
            "       population_per_household  bedrooms_per_room  ocean_proximity  \n",
            "0                     -0.060476           0.884580                1  \n",
            "1                     -0.019373          -0.246127                0  \n",
            "2                     -0.083016          -0.346166                1  \n",
            "3                      0.098435           0.896466                0  \n",
            "4                     -0.078014          -0.465112                0  \n",
            "...                         ...                ...              ...  \n",
            "16507                  0.184396          -0.393169                1  \n",
            "16508                  0.296778           0.640672                4  \n",
            "16509                 -0.043020           0.661490                1  \n",
            "16510                 -0.012555          -0.172641                0  \n",
            "16511                 -0.069995           0.228400                0  \n",
            "\n",
            "[16512 rows x 12 columns]\n"
          ]
        }
      ],
      "source": [
        "# Assuming 'data_custom_tr' is your original DataFrame and 'ocean_proximity_onehot_df' is the one-hot encoded DataFrame\n",
        "data_custom_tr = pd.concat([data_custom_tr, ocean_proximity_encoded], axis=1)\n",
        "\n",
        "\n",
        "# Display the resulting DataFrame\n",
        "print(data_custom_tr)\n"
      ]
    },
    {
      "cell_type": "markdown",
      "id": "e4fa027c-5f11-43f8-9f80-2ffec3f73111",
      "metadata": {
        "id": "e4fa027c-5f11-43f8-9f80-2ffec3f73111"
      },
      "source": [
        "### About pipeline it is not totally clear that what we must do please make it clear whenever you have seen my project answer, thank you."
      ]
    },
    {
      "cell_type": "markdown",
      "id": "e527d77d-7d34-4e60-a8ec-b17e16ed3ae8",
      "metadata": {
        "id": "e527d77d-7d34-4e60-a8ec-b17e16ed3ae8"
      },
      "source": [
        "## Phase 5\n",
        "### Questions 1,2"
      ]
    },
    {
      "cell_type": "code",
      "execution_count": 15,
      "id": "7d81d4cb-55ac-43a8-802b-c93694120441",
      "metadata": {
        "colab": {
          "base_uri": "https://localhost:8080/",
          "height": 75
        },
        "id": "7d81d4cb-55ac-43a8-802b-c93694120441",
        "outputId": "2279fca9-a0f9-43d4-f336-4e91ffe64c85"
      },
      "outputs": [
        {
          "output_type": "execute_result",
          "data": {
            "text/plain": [
              "LinearRegression()"
            ],
            "text/html": [
              "<style>#sk-container-id-1 {color: black;background-color: white;}#sk-container-id-1 pre{padding: 0;}#sk-container-id-1 div.sk-toggleable {background-color: white;}#sk-container-id-1 label.sk-toggleable__label {cursor: pointer;display: block;width: 100%;margin-bottom: 0;padding: 0.3em;box-sizing: border-box;text-align: center;}#sk-container-id-1 label.sk-toggleable__label-arrow:before {content: \"▸\";float: left;margin-right: 0.25em;color: #696969;}#sk-container-id-1 label.sk-toggleable__label-arrow:hover:before {color: black;}#sk-container-id-1 div.sk-estimator:hover label.sk-toggleable__label-arrow:before {color: black;}#sk-container-id-1 div.sk-toggleable__content {max-height: 0;max-width: 0;overflow: hidden;text-align: left;background-color: #f0f8ff;}#sk-container-id-1 div.sk-toggleable__content pre {margin: 0.2em;color: black;border-radius: 0.25em;background-color: #f0f8ff;}#sk-container-id-1 input.sk-toggleable__control:checked~div.sk-toggleable__content {max-height: 200px;max-width: 100%;overflow: auto;}#sk-container-id-1 input.sk-toggleable__control:checked~label.sk-toggleable__label-arrow:before {content: \"▾\";}#sk-container-id-1 div.sk-estimator input.sk-toggleable__control:checked~label.sk-toggleable__label {background-color: #d4ebff;}#sk-container-id-1 div.sk-label input.sk-toggleable__control:checked~label.sk-toggleable__label {background-color: #d4ebff;}#sk-container-id-1 input.sk-hidden--visually {border: 0;clip: rect(1px 1px 1px 1px);clip: rect(1px, 1px, 1px, 1px);height: 1px;margin: -1px;overflow: hidden;padding: 0;position: absolute;width: 1px;}#sk-container-id-1 div.sk-estimator {font-family: monospace;background-color: #f0f8ff;border: 1px dotted black;border-radius: 0.25em;box-sizing: border-box;margin-bottom: 0.5em;}#sk-container-id-1 div.sk-estimator:hover {background-color: #d4ebff;}#sk-container-id-1 div.sk-parallel-item::after {content: \"\";width: 100%;border-bottom: 1px solid gray;flex-grow: 1;}#sk-container-id-1 div.sk-label:hover label.sk-toggleable__label {background-color: #d4ebff;}#sk-container-id-1 div.sk-serial::before {content: \"\";position: absolute;border-left: 1px solid gray;box-sizing: border-box;top: 0;bottom: 0;left: 50%;z-index: 0;}#sk-container-id-1 div.sk-serial {display: flex;flex-direction: column;align-items: center;background-color: white;padding-right: 0.2em;padding-left: 0.2em;position: relative;}#sk-container-id-1 div.sk-item {position: relative;z-index: 1;}#sk-container-id-1 div.sk-parallel {display: flex;align-items: stretch;justify-content: center;background-color: white;position: relative;}#sk-container-id-1 div.sk-item::before, #sk-container-id-1 div.sk-parallel-item::before {content: \"\";position: absolute;border-left: 1px solid gray;box-sizing: border-box;top: 0;bottom: 0;left: 50%;z-index: -1;}#sk-container-id-1 div.sk-parallel-item {display: flex;flex-direction: column;z-index: 1;position: relative;background-color: white;}#sk-container-id-1 div.sk-parallel-item:first-child::after {align-self: flex-end;width: 50%;}#sk-container-id-1 div.sk-parallel-item:last-child::after {align-self: flex-start;width: 50%;}#sk-container-id-1 div.sk-parallel-item:only-child::after {width: 0;}#sk-container-id-1 div.sk-dashed-wrapped {border: 1px dashed gray;margin: 0 0.4em 0.5em 0.4em;box-sizing: border-box;padding-bottom: 0.4em;background-color: white;}#sk-container-id-1 div.sk-label label {font-family: monospace;font-weight: bold;display: inline-block;line-height: 1.2em;}#sk-container-id-1 div.sk-label-container {text-align: center;}#sk-container-id-1 div.sk-container {/* jupyter's `normalize.less` sets `[hidden] { display: none; }` but bootstrap.min.css set `[hidden] { display: none !important; }` so we also need the `!important` here to be able to override the default hidden behavior on the sphinx rendered scikit-learn.org. See: https://github.com/scikit-learn/scikit-learn/issues/21755 */display: inline-block !important;position: relative;}#sk-container-id-1 div.sk-text-repr-fallback {display: none;}</style><div id=\"sk-container-id-1\" class=\"sk-top-container\"><div class=\"sk-text-repr-fallback\"><pre>LinearRegression()</pre><b>In a Jupyter environment, please rerun this cell to show the HTML representation or trust the notebook. <br />On GitHub, the HTML representation is unable to render, please try loading this page with nbviewer.org.</b></div><div class=\"sk-container\" hidden><div class=\"sk-item\"><div class=\"sk-estimator sk-toggleable\"><input class=\"sk-toggleable__control sk-hidden--visually\" id=\"sk-estimator-id-1\" type=\"checkbox\" checked><label for=\"sk-estimator-id-1\" class=\"sk-toggleable__label sk-toggleable__label-arrow\">LinearRegression</label><div class=\"sk-toggleable__content\"><pre>LinearRegression()</pre></div></div></div></div></div>"
            ]
          },
          "metadata": {},
          "execution_count": 15
        }
      ],
      "source": [
        "from sklearn.linear_model import LinearRegression\n",
        "\n",
        "X = data_custom_tr\n",
        "y = label\n",
        "# Split the data into training and testing sets\n",
        "\n",
        "\n",
        "# Create a Linear Regression model\n",
        "lin_reg = LinearRegression()\n",
        "\n",
        "# Fit the model on the training data\n",
        "lin_reg.fit(X, y)"
      ]
    },
    {
      "cell_type": "markdown",
      "id": "823547f9-2978-4de7-b6af-d8c19488372e",
      "metadata": {
        "id": "823547f9-2978-4de7-b6af-d8c19488372e"
      },
      "source": [
        "### Questions 3,4,5"
      ]
    },
    {
      "cell_type": "code",
      "execution_count": 16,
      "id": "15b526ea-6dd5-4538-8b87-ab95b844d429",
      "metadata": {
        "colab": {
          "base_uri": "https://localhost:8080/"
        },
        "id": "15b526ea-6dd5-4538-8b87-ab95b844d429",
        "outputId": "7901eee2-69dc-4c36-895e-3b9b758dcd15"
      },
      "outputs": [
        {
          "output_type": "execute_result",
          "data": {
            "text/plain": [
              "[44000.0, 231500.0, 71300.0, 90000.0]"
            ]
          },
          "metadata": {},
          "execution_count": 16
        }
      ],
      "source": [
        "# Assuming data_prepared is your prepared data\n",
        "sample_data_prepared = data_custom_tr.iloc[:4, :]  # Selecting the first 4 rows\n",
        "\n",
        "# Use the linear regression model to predict\n",
        "L_predictions = lin_reg.predict(sample_data_prepared)\n",
        "\n",
        "L_sample_labels = y.iloc[:4]\n",
        "list(L_sample_labels)"
      ]
    },
    {
      "cell_type": "markdown",
      "id": "15b38b14-30d3-4230-b031-0dd18f9a77ae",
      "metadata": {
        "id": "15b38b14-30d3-4230-b031-0dd18f9a77ae"
      },
      "source": [
        "### Questions 6,7"
      ]
    },
    {
      "cell_type": "code",
      "execution_count": 17,
      "id": "69c2b10a-909d-43e7-8657-d5e35688c2e1",
      "metadata": {
        "colab": {
          "base_uri": "https://localhost:8080/"
        },
        "id": "69c2b10a-909d-43e7-8657-d5e35688c2e1",
        "outputId": "bfebba90-d641-4be8-a23b-00bd60463d6b"
      },
      "outputs": [
        {
          "output_type": "stream",
          "name": "stdout",
          "text": [
            "linear Tree RMSE: 69454.74361029781\n"
          ]
        }
      ],
      "source": [
        "from sklearn.metrics import mean_squared_error\n",
        "L_housing_predictions=lin_reg.predict(X)\n",
        "lin_mse = np.square(np.subtract(np.array(y),L_housing_predictions)).mean()\n",
        "lin_rmse=np.sqrt(lin_mse)\n",
        "print(f\"linear Tree RMSE: {lin_rmse}\")\n"
      ]
    },
    {
      "cell_type": "markdown",
      "id": "ae3ac815-e57f-457d-9f05-970216ea18f6",
      "metadata": {
        "id": "ae3ac815-e57f-457d-9f05-970216ea18f6"
      },
      "source": [
        "### Question 8"
      ]
    },
    {
      "cell_type": "code",
      "execution_count": 18,
      "id": "6bf04d54-64a1-4efa-88af-3e4a4e21f7c1",
      "metadata": {
        "colab": {
          "base_uri": "https://localhost:8080/"
        },
        "id": "6bf04d54-64a1-4efa-88af-3e4a4e21f7c1",
        "outputId": "73f45445-b967-4729-e564-875bfd0a435d"
      },
      "outputs": [
        {
          "output_type": "stream",
          "name": "stdout",
          "text": [
            "Decision Tree RMSE: 72780.02108126144\n"
          ]
        }
      ],
      "source": [
        "from sklearn.tree import DecisionTreeRegressor\n",
        "from sklearn.model_selection import train_test_split\n",
        "from sklearn.metrics import mean_squared_error\n",
        "import numpy as np\n",
        "\n",
        "# Split the data into training and testing sets\n",
        "X_train, X_test, y_train, y_test = train_test_split(X, y, test_size=0.2, random_state=42)\n",
        "\n",
        "# Create a Decision Tree Regression model\n",
        "tree_reg = DecisionTreeRegressor()\n",
        "\n",
        "# Fit the model on the training data\n",
        "tree_reg.fit(X_train, y_train)\n",
        "\n",
        "# Assuming data_custom_tr is your prepared data\n",
        "sample_data_prepared = X_test.iloc[:4, :]  # Selecting the first 4 rows\n",
        "\n",
        "# Use the Decision Tree Regression model to predict\n",
        "T_predictions = tree_reg.predict(sample_data_prepared)\n",
        "\n",
        "# Evaluate the model on the training set\n",
        "T_housing_predictions = tree_reg.predict(X_test)\n",
        "tree_mse = mean_squared_error(y_test, T_housing_predictions)\n",
        "tree_rmse = np.sqrt(tree_mse)\n",
        "\n",
        "# Print or use the root mean squared error value as needed\n",
        "print(f\"Decision Tree RMSE: {tree_rmse}\")\n"
      ]
    },
    {
      "cell_type": "markdown",
      "id": "e8523eaf-6229-48c7-b532-397ab8ab2707",
      "metadata": {
        "id": "e8523eaf-6229-48c7-b532-397ab8ab2707"
      },
      "source": [
        "### Question 9"
      ]
    },
    {
      "cell_type": "code",
      "execution_count": 19,
      "id": "0beb3047-4902-422b-8707-9008fed50ac0",
      "metadata": {
        "id": "0beb3047-4902-422b-8707-9008fed50ac0"
      },
      "outputs": [],
      "source": [
        "from sklearn.model_selection import cross_val_score\n",
        "T_scores=cross_val_score(tree_reg,X,np.array(y),scoring='neg_mean_squared_error', cv=10)\n",
        "trees_rmse_scores=np.sqrt(-T_scores)\n"
      ]
    },
    {
      "cell_type": "markdown",
      "id": "f7d8d1ad-36f0-4455-ab84-1927e95f8d1a",
      "metadata": {
        "id": "f7d8d1ad-36f0-4455-ab84-1927e95f8d1a"
      },
      "source": [
        "### Question 10"
      ]
    },
    {
      "cell_type": "code",
      "execution_count": 20,
      "id": "77bc3ea0-f210-43f8-9a04-36d63f3f040a",
      "metadata": {
        "colab": {
          "base_uri": "https://localhost:8080/"
        },
        "id": "77bc3ea0-f210-43f8-9a04-36d63f3f040a",
        "outputId": "45e38105-4485-4b91-94d9-d87855e37f18"
      },
      "outputs": [
        {
          "output_type": "stream",
          "name": "stdout",
          "text": [
            "============ Decision Tree Regression =========================\n",
            "Scores: [69601.96470792 70727.03045657 67352.76022491 71772.97565048\n",
            " 72265.81902311 70404.36030193 70784.78837185 71017.54341427\n",
            " 74179.75421308 70164.47245114]\n",
            "Mean: 70827.14688152695\n",
            "Standard deviation: 1686.4973697894231\n",
            "====================================================\n"
          ]
        }
      ],
      "source": [
        "def display_scores(scores,model_name):\n",
        "    print(\"============\",model_name,\"=========================\")\n",
        "    print(\"Scores:\",scores)#کل ده داده\n",
        "    print(\"Mean:\",scores.mean())# میانگین\n",
        "    print('Standard deviation:',scores.std())# انحراف معیار\n",
        "    print(\"====================================================\")\n",
        "display_scores(trees_rmse_scores, \"Decision Tree Regression\")\n"
      ]
    },
    {
      "cell_type": "markdown",
      "id": "a51f7a2c-b3c9-4559-8352-9f9c657d0c4f",
      "metadata": {
        "id": "a51f7a2c-b3c9-4559-8352-9f9c657d0c4f"
      },
      "source": [
        "### Question 11,13"
      ]
    },
    {
      "cell_type": "code",
      "execution_count": 21,
      "id": "c4007098-21af-4d01-b6cb-e8c693da1efa",
      "metadata": {
        "colab": {
          "base_uri": "https://localhost:8080/"
        },
        "id": "c4007098-21af-4d01-b6cb-e8c693da1efa",
        "outputId": "0c3b8299-dcb4-494f-c916-a8d00fec7ab1"
      },
      "outputs": [
        {
          "output_type": "stream",
          "name": "stdout",
          "text": [
            "============ linear Regression =========================\n",
            "Scores: [69927.23336468 70380.65410881 67898.04158651 70646.35477919\n",
            " 74222.4566409  70954.39141079 67891.34168015 71251.82031486\n",
            " 68208.64466325 67276.19479395]\n",
            "Mean: 69865.71333430866\n",
            "Standard deviation: 2004.6803466748725\n",
            "====================================================\n"
          ]
        }
      ],
      "source": [
        "L_scores=cross_val_score(lin_reg,X,y,scoring='neg_mean_squared_error', cv=10)\n",
        "lin_rmse_scores=np.sqrt(-L_scores)\n",
        "display_scores(lin_rmse_scores, \"linear Regression\")\n"
      ]
    },
    {
      "cell_type": "markdown",
      "id": "cfa1a20b-2e67-4c98-899e-1ae26d6f87f4",
      "metadata": {
        "id": "cfa1a20b-2e67-4c98-899e-1ae26d6f87f4"
      },
      "source": [
        "<div dir=\"rtl\">\n",
        "     با توجه به این که هم معیار RMSEوهم معیار اسکور برای روش linear کمتر است میگوییم این روش بهتر است اما با اختلاف بسیار ناچیز و تقریبا می شود گفت هر دو روشی نتیجه مشابهی میدهند..\n",
        "</div>"
      ]
    },
    {
      "cell_type": "markdown",
      "id": "154dfe47-09e9-4e85-963d-d651e0eeca74",
      "metadata": {
        "id": "154dfe47-09e9-4e85-963d-d651e0eeca74"
      },
      "source": [
        "### Question 12"
      ]
    },
    {
      "cell_type": "markdown",
      "id": "22688512-ed2d-4610-a0b2-4d52be6faa7e",
      "metadata": {
        "id": "22688512-ed2d-4610-a0b2-4d52be6faa7e"
      },
      "source": [
        "<div dir=\"rtl\">\n",
        "    باید بر اساس انجام پیشبینی بر روی دو مجموعه تست و آموزش برای هر روش منحنی یادگیری آن را رسم کرده سپس نتیجه گیری کنیم :\n",
        "</div>"
      ]
    },
    {
      "cell_type": "code",
      "execution_count": 22,
      "id": "915c70cf-d5f3-4e55-9ed6-54fbd2e0a48d",
      "metadata": {
        "colab": {
          "base_uri": "https://localhost:8080/",
          "height": 1000
        },
        "id": "915c70cf-d5f3-4e55-9ed6-54fbd2e0a48d",
        "outputId": "6743429f-795e-47de-ccda-b352b9d1dc6f"
      },
      "outputs": [
        {
          "output_type": "stream",
          "name": "stdout",
          "text": [
            "Decision Tree - RMSE (Train): 0.0\n",
            "Decision Tree - RMSE (Test): 72508.08466463501\n",
            "Linear Regression - RMSE (Train): 69553.62345113074\n",
            "Linear Regression - RMSE (Test): 69397.71073724094\n"
          ]
        },
        {
          "output_type": "display_data",
          "data": {
            "text/plain": [
              "<Figure size 500x500 with 1 Axes>"
            ],
            "image/png": "[encoded data removed]"
          },
          "metadata": {}
        },
        {
          "output_type": "display_data",
          "data": {
            "text/plain": [
              "<Figure size 500x500 with 1 Axes>"
            ],
            "image/png": "[encoded data removed]"
          },
          "metadata": {}
        }
      ],
      "source": [
        "\n",
        "# Assuming X and y are your features and target variable\n",
        "X_train, X_test, y_train, y_test = train_test_split(X, y, test_size=0.2, random_state=42)\n",
        "\n",
        "# Train Decision Tree\n",
        "tree_reg.fit(X_train, y_train)\n",
        "\n",
        "# Train Linear Regression\n",
        "lin_reg.fit(X_train, y_train)\n",
        "\n",
        "from sklearn.metrics import mean_squared_error\n",
        "\n",
        "# Decision Tree evaluation\n",
        "train_predictions_dt = tree_reg.predict(X_train)\n",
        "test_predictions_dt = tree_reg.predict(X_test)\n",
        "\n",
        "rmse_train_dt = np.sqrt(mean_squared_error(y_train, train_predictions_dt))\n",
        "rmse_test_dt = np.sqrt(mean_squared_error(y_test, test_predictions_dt))\n",
        "\n",
        "# Linear Regression evaluation\n",
        "train_predictions_lr = lin_reg.predict(X_train)\n",
        "test_predictions_lr = lin_reg.predict(X_test)\n",
        "\n",
        "rmse_train_lr = np.sqrt(mean_squared_error(y_train, train_predictions_lr))\n",
        "rmse_test_lr = np.sqrt(mean_squared_error(y_test, test_predictions_lr))\n",
        "\n",
        "print(\"Decision Tree - RMSE (Train):\", rmse_train_dt)\n",
        "print(\"Decision Tree - RMSE (Test):\", rmse_test_dt)\n",
        "\n",
        "print(\"Linear Regression - RMSE (Train):\", rmse_train_lr)\n",
        "print(\"Linear Regression - RMSE (Test):\", rmse_test_lr)\n",
        "\n",
        "import matplotlib.pyplot as plt\n",
        "from sklearn.model_selection import learning_curve\n",
        "# Example code for learning curves\n",
        "def plot_learning_curves(name,model, X, y):\n",
        "    train_sizes, train_scores, test_scores = learning_curve(model, X, y,\n",
        "                                                            train_sizes=np.linspace(0.1, 1.0, 10),\n",
        "                                                            scoring='neg_mean_squared_error', cv=10)\n",
        "\n",
        "    train_mean = np.sqrt(-np.mean(train_scores, axis=1))\n",
        "    train_std = np.sqrt(np.std(train_scores, axis=1))\n",
        "    test_mean = np.sqrt(-np.mean(test_scores, axis=1))\n",
        "    test_std = np.sqrt(np.std(test_scores, axis=1))\n",
        "\n",
        "    plt.figure(figsize=(5,5))\n",
        "    plt.plot(train_sizes, train_mean, '--', color=\"#111111\", label=\"Training score\")\n",
        "    plt.plot(train_sizes, test_mean, color=\"#111111\", label=\"Cross-validation score\")\n",
        "\n",
        "    plt.fill_between(train_sizes, train_mean - train_std, train_mean + train_std, color=\"#DDDDDD\")\n",
        "    plt.fill_between(train_sizes, test_mean - test_std, test_mean + test_std, color=\"#DDDDDD\")\n",
        "\n",
        "    plt.title(name)\n",
        "    plt.xlabel(\"Training Set Size\")\n",
        "    plt.ylabel(\"Root Mean Squared Error\")\n",
        "    plt.legend(loc=\"best\")\n",
        "    plt.tight_layout()\n",
        "    plt.show()\n",
        "\n",
        "# Assuming tree_reg and lin_reg are your trained models\n",
        "plot_learning_curves('Decision Tree Regression',tree_reg, X, y)\n",
        "plot_learning_curves('Linear Regression',lin_reg, X, y)"
      ]
    },
    {
      "cell_type": "markdown",
      "id": "88404934-a070-4321-a6f8-0020a075318e",
      "metadata": {
        "id": "88404934-a070-4321-a6f8-0020a075318e"
      },
      "source": [
        "<div dir=\"rtl\">\n",
        "    با توجه به نمودار های بالا واضح است که decision tree regression بر روی مجموعه آموزشی بسیار دقیق است اما در مجموعه تست خطای زیادی دارد. این درحالی است که linear regression بر روی هر دو مجموعه خطا دارد که نهایتا نمودار های آن دو همگرا می شوند. پس decision tree regression دارای overfitting است درحالی که linear regression دارای underfitting می باشد.\n",
        "</div>"
      ]
    },
    {
      "cell_type": "markdown",
      "id": "b9a24f9f-54ec-4655-8379-70429d736c84",
      "metadata": {
        "id": "b9a24f9f-54ec-4655-8379-70429d736c84"
      },
      "source": [
        "### Question 14"
      ]
    },
    {
      "cell_type": "code",
      "execution_count": 23,
      "id": "830780c6-baab-4576-a600-3f7b660b33c0",
      "metadata": {
        "colab": {
          "base_uri": "https://localhost:8080/"
        },
        "id": "830780c6-baab-4576-a600-3f7b660b33c0",
        "outputId": "415fe06c-fda7-4bd7-fc55-a4fbe441d108"
      },
      "outputs": [
        {
          "output_type": "stream",
          "name": "stdout",
          "text": [
            "Random Forest RMSE on Training Set: 19136.14228743269\n",
            "============ Random Forest Regression =========================\n",
            "Scores: [49352.00690156 51634.27230654 48334.70219697 52534.75125285\n",
            " 51800.49631462 48783.67549765 50471.69943599 51530.65627014\n",
            " 49663.12164111 48313.20311421]\n",
            "Mean: 50241.85849316363\n",
            "Standard deviation: 1481.532261505701\n",
            "====================================================\n"
          ]
        }
      ],
      "source": [
        "from sklearn.ensemble import RandomForestRegressor\n",
        "\n",
        "# Initialize the Random Forest Regressor\n",
        "forest_reg = RandomForestRegressor()\n",
        "\n",
        "# Fit the model on the training data\n",
        "forest_reg.fit(X_train, y_train)\n",
        "\n",
        "# Assuming data_prepared is your prepared data\n",
        "sample_data_prepared = X_train.iloc[:4, :]  # Selecting the first 4 rows\n",
        "\n",
        "# Use the Random Forest Regressor to predict\n",
        "forest_predictions = forest_reg.predict(sample_data_prepared)\n",
        "\n",
        "# Calculate RMSE for the entire training set\n",
        "forest_mse = mean_squared_error(y_train, forest_reg.predict(X_train))\n",
        "forest_rmse = np.sqrt(forest_mse)\n",
        "print(\"Random Forest RMSE on Training Set:\", forest_rmse)\n",
        "\n",
        "# Cross-validation scores\n",
        "F_scores = cross_val_score(forest_reg, X, y, scoring='neg_mean_squared_error', cv=10)\n",
        "forest_rmse_scores = np.sqrt(-F_scores)\n",
        "display_scores(forest_rmse_scores, \"Random Forest Regression\")\n"
      ]
    }
  ],
  "metadata": {
    "kernelspec": {
      "display_name": "Python 3 (ipykernel)",
      "language": "python",
      "name": "python3"
    },
    "language_info": {
      "codemirror_mode": {
        "name": "ipython",
        "version": 3
      },
      "file_extension": ".py",
      "mimetype": "text/x-python",
      "name": "python",
      "nbconvert_exporter": "python",
      "pygments_lexer": "ipython3",
      "version": "3.11.5"
    },
    "colab": {
      "provenance": []
    }
  },
  "nbformat": 4,
  "nbformat_minor": 5
}