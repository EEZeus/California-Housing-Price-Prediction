{
 "cells": [
  {
   "cell_type": "markdown",
   "id": "s5Z_Q4ST4aqG",
   "metadata": {
    "id": "s5Z_Q4ST4aqG"
   },
   "source": []
  },
  {
   "cell_type": "markdown",
   "id": "ea045f96-a3d1-4876-80c7-3c8444e191d7",
   "metadata": {
    "id": "ea045f96-a3d1-4876-80c7-3c8444e191d7"
   },
   "source": [
    "# Data Mining Project - Phase 6 - Ehsan Espandar - 99442011\n",
    "\n",
    "<div lang='rtl'>\n",
    "    با سلام، به دلیل پیشنیاز بودن داده های پیش پردازش شده ی فاز سه و چهار آنها نیز در این نوتبوک آورده شده اند. لطفا به سکشن فاز 6 برای بررسی فایل مراجعه کنید\n",
    "</div>"
   ]
  },
  {
   "cell_type": "code",
   "execution_count": 48,
   "id": "11ff63dd-e54f-4dfd-a15d-181cd3453122",
   "metadata": {
    "id": "11ff63dd-e54f-4dfd-a15d-181cd3453122"
   },
   "outputs": [],
   "source": [
    "import pandas as pd"
   ]
  },
  {
   "cell_type": "code",
   "execution_count": 49,
   "id": "3d2ba20a-2755-4891-8df6-77957b276772",
   "metadata": {
    "id": "3d2ba20a-2755-4891-8df6-77957b276772"
   },
   "outputs": [],
   "source": [
    "data_packet = pd.read_csv('housing.csv')"
   ]
  },
  {
   "cell_type": "code",
   "execution_count": 50,
   "id": "1dbe3367-d5c2-4a87-a386-3a13ecc5d805",
   "metadata": {
    "colab": {
     "base_uri": "https://localhost:8080/"
    },
    "id": "1dbe3367-d5c2-4a87-a386-3a13ecc5d805",
    "outputId": "d5c061fb-0e2a-4513-92e9-e4398751f8c2"
   },
   "outputs": [
    {
     "name": "stdout",
     "output_type": "stream",
     "text": [
      "16512 16512\n",
      "4128 4128\n"
     ]
    }
   ],
   "source": [
    "from sklearn.model_selection import train_test_split\n",
    "\n",
    "X = data_packet.drop('median_house_value', axis=1)\n",
    "y = data_packet['median_house_value']\n",
    "\n",
    "\n",
    "X_train, X_test, y_train, y_test = train_test_split(X, y, test_size=0.2, random_state=2021)\n",
    "\n",
    "print(len(X_train),len(y_train))\n",
    "print(len(X_test),len(y_test))"
   ]
  },
  {
   "cell_type": "markdown",
   "id": "7f6d2db3-658a-45d7-8a3f-8ca4e4e7ac00",
   "metadata": {
    "id": "7f6d2db3-658a-45d7-8a3f-8ca4e4e7ac00"
   },
   "source": [
    "## Phase 4 (It is repeated because phase 5 needs the information of label and prepared data.)"
   ]
  },
  {
   "cell_type": "code",
   "execution_count": 51,
   "id": "ca030a2f-8b87-402b-b03c-3d9699855b81",
   "metadata": {
    "colab": {
     "base_uri": "https://localhost:8080/"
    },
    "id": "ca030a2f-8b87-402b-b03c-3d9699855b81",
    "outputId": "1ead0c7a-49a6-4914-bfa8-6a0b293440ff"
   },
   "outputs": [
    {
     "name": "stdout",
     "output_type": "stream",
     "text": [
      "       longitude  latitude  housing_median_age  total_rooms  total_bedrooms  \\\n",
      "2782     -114.66     32.74                17.0       1388.0           386.0   \n",
      "8513     -118.31     33.89                35.0       2144.0           423.0   \n",
      "2163     -119.82     36.77                41.0       1441.0           274.0   \n",
      "5232     -118.24     33.94                42.0        380.0           106.0   \n",
      "9766     -121.66     36.37                 9.0       1580.0           287.0   \n",
      "...          ...       ...                 ...          ...             ...   \n",
      "16347    -121.35     38.02                16.0       1665.0           311.0   \n",
      "20318    -119.15     34.20                25.0       3445.0           898.0   \n",
      "2669     -115.51     33.24                32.0       1995.0           523.0   \n",
      "17536    -121.88     37.35                49.0       1728.0           350.0   \n",
      "6201     -117.89     34.08                25.0       2115.0           489.0   \n",
      "\n",
      "       population  households  median_income ocean_proximity  \\\n",
      "2782        775.0       320.0         1.2049          INLAND   \n",
      "8513       1192.0       417.0         4.1458       <1H OCEAN   \n",
      "2163        646.0       296.0         3.0568          INLAND   \n",
      "5232        411.0       100.0         0.9705       <1H OCEAN   \n",
      "9766        465.0       208.0         6.1668       <1H OCEAN   \n",
      "...           ...         ...            ...             ...   \n",
      "16347      1301.0       259.0         2.8403          INLAND   \n",
      "20318      5558.0       894.0         3.0972      NEAR OCEAN   \n",
      "2669       1069.0       410.0         1.6552          INLAND   \n",
      "17536      1146.0       391.0         3.5781       <1H OCEAN   \n",
      "6201       1107.0       477.0         3.1949       <1H OCEAN   \n",
      "\n",
      "       median_house_value  \n",
      "2782              44000.0  \n",
      "8513             231500.0  \n",
      "2163              71300.0  \n",
      "5232              90000.0  \n",
      "9766             405800.0  \n",
      "...                   ...  \n",
      "16347            132300.0  \n",
      "20318            169300.0  \n",
      "2669              43300.0  \n",
      "17536            193000.0  \n",
      "6201             207400.0  \n",
      "\n",
      "[16512 rows x 10 columns]\n"
     ]
    }
   ],
   "source": [
    "import copy\n",
    "import pandas as pd\n",
    "\n",
    "# Assuming X_train and y_train are your feature and target DataFrames respectively\n",
    "X_train_copy = copy.copy(X_train)\n",
    "y_train_copy = copy.copy(y_train)\n",
    "\n",
    "# Concatenate X_train and y_train along columns axis\n",
    "data = pd.concat([X_train_copy, y_train_copy], axis=1)\n",
    "\n",
    "\n",
    "print(data)"
   ]
  },
  {
   "cell_type": "code",
   "execution_count": 52,
   "id": "60269b57-9db3-4daa-bd75-a19df1e94997",
   "metadata": {
    "colab": {
     "base_uri": "https://localhost:8080/"
    },
    "id": "60269b57-9db3-4daa-bd75-a19df1e94997",
    "outputId": "05b8b9d1-10a1-4299-a70d-752ad3206ffd"
   },
   "outputs": [
    {
     "name": "stdout",
     "output_type": "stream",
     "text": [
      "Copied label 'median_house_value':\n",
      " 2782      44000.0\n",
      "8513     231500.0\n",
      "2163      71300.0\n",
      "5232      90000.0\n",
      "9766     405800.0\n",
      "           ...   \n",
      "16347    132300.0\n",
      "20318    169300.0\n",
      "2669      43300.0\n",
      "17536    193000.0\n",
      "6201     207400.0\n",
      "Name: median_house_value, Length: 16512, dtype: float64\n",
      "\n",
      "Dataset without 'median_house_value':\n",
      "        longitude  latitude  housing_median_age  total_rooms  total_bedrooms  \\\n",
      "2782     -114.66     32.74                17.0       1388.0           386.0   \n",
      "8513     -118.31     33.89                35.0       2144.0           423.0   \n",
      "2163     -119.82     36.77                41.0       1441.0           274.0   \n",
      "5232     -118.24     33.94                42.0        380.0           106.0   \n",
      "9766     -121.66     36.37                 9.0       1580.0           287.0   \n",
      "...          ...       ...                 ...          ...             ...   \n",
      "16347    -121.35     38.02                16.0       1665.0           311.0   \n",
      "20318    -119.15     34.20                25.0       3445.0           898.0   \n",
      "2669     -115.51     33.24                32.0       1995.0           523.0   \n",
      "17536    -121.88     37.35                49.0       1728.0           350.0   \n",
      "6201     -117.89     34.08                25.0       2115.0           489.0   \n",
      "\n",
      "       population  households  median_income ocean_proximity  \n",
      "2782        775.0       320.0         1.2049          INLAND  \n",
      "8513       1192.0       417.0         4.1458       <1H OCEAN  \n",
      "2163        646.0       296.0         3.0568          INLAND  \n",
      "5232        411.0       100.0         0.9705       <1H OCEAN  \n",
      "9766        465.0       208.0         6.1668       <1H OCEAN  \n",
      "...           ...         ...            ...             ...  \n",
      "16347      1301.0       259.0         2.8403          INLAND  \n",
      "20318      5558.0       894.0         3.0972      NEAR OCEAN  \n",
      "2669       1069.0       410.0         1.6552          INLAND  \n",
      "17536      1146.0       391.0         3.5781       <1H OCEAN  \n",
      "6201       1107.0       477.0         3.1949       <1H OCEAN  \n",
      "\n",
      "[16512 rows x 9 columns]\n"
     ]
    }
   ],
   "source": [
    "label = data[\"median_house_value\"].copy()\n",
    "\n",
    "data_without_label = data.drop(\"median_house_value\", axis=1)\n",
    "\n",
    "# Display the copied feature and the dataset without \"ocean_proximity\"\n",
    "print(\"Copied label 'median_house_value':\\n\", label)\n",
    "print(\"\\nDataset without 'median_house_value':\\n\", data_without_label)\n",
    "\n"
   ]
  },
  {
   "cell_type": "code",
   "execution_count": 53,
   "id": "a50943d6-d70c-4516-963e-e41d4193c0f5",
   "metadata": {
    "colab": {
     "base_uri": "https://localhost:8080/"
    },
    "id": "a50943d6-d70c-4516-963e-e41d4193c0f5",
    "outputId": "9ac5cace-c93a-48e9-94b5-ffcfaaa3108c"
   },
   "outputs": [
    {
     "name": "stdout",
     "output_type": "stream",
     "text": [
      "Copied feature 'ocean_proximity':\n",
      " 2782         INLAND\n",
      "8513      <1H OCEAN\n",
      "2163         INLAND\n",
      "5232      <1H OCEAN\n",
      "9766      <1H OCEAN\n",
      "            ...    \n",
      "16347        INLAND\n",
      "20318    NEAR OCEAN\n",
      "2669         INLAND\n",
      "17536     <1H OCEAN\n",
      "6201      <1H OCEAN\n",
      "Name: ocean_proximity, Length: 16512, dtype: object\n",
      "\n",
      "Dataset without 'ocean_proximity':\n",
      "        longitude  latitude  housing_median_age  total_rooms  total_bedrooms  \\\n",
      "2782     -114.66     32.74                17.0       1388.0           386.0   \n",
      "8513     -118.31     33.89                35.0       2144.0           423.0   \n",
      "2163     -119.82     36.77                41.0       1441.0           274.0   \n",
      "5232     -118.24     33.94                42.0        380.0           106.0   \n",
      "9766     -121.66     36.37                 9.0       1580.0           287.0   \n",
      "...          ...       ...                 ...          ...             ...   \n",
      "16347    -121.35     38.02                16.0       1665.0           311.0   \n",
      "20318    -119.15     34.20                25.0       3445.0           898.0   \n",
      "2669     -115.51     33.24                32.0       1995.0           523.0   \n",
      "17536    -121.88     37.35                49.0       1728.0           350.0   \n",
      "6201     -117.89     34.08                25.0       2115.0           489.0   \n",
      "\n",
      "       population  households  median_income  \n",
      "2782        775.0       320.0         1.2049  \n",
      "8513       1192.0       417.0         4.1458  \n",
      "2163        646.0       296.0         3.0568  \n",
      "5232        411.0       100.0         0.9705  \n",
      "9766        465.0       208.0         6.1668  \n",
      "...           ...         ...            ...  \n",
      "16347      1301.0       259.0         2.8403  \n",
      "20318      5558.0       894.0         3.0972  \n",
      "2669       1069.0       410.0         1.6552  \n",
      "17536      1146.0       391.0         3.5781  \n",
      "6201       1107.0       477.0         3.1949  \n",
      "\n",
      "[16512 rows x 8 columns]\n"
     ]
    }
   ],
   "source": [
    "# Create a copy of the \"ocean_proximity\" feature\n",
    "ocean_proximity_copy = data_without_label[\"ocean_proximity\"].copy()\n",
    "\n",
    "# Remove the \"ocean_proximity\" feature from the original dataset\n",
    "data_without_ocean_proximity = data_without_label.drop(\"ocean_proximity\", axis=1)\n",
    "\n",
    "# Display the copied feature and the dataset without \"ocean_proximity\"\n",
    "print(\"Copied feature 'ocean_proximity':\\n\", ocean_proximity_copy)\n",
    "print(\"\\nDataset without 'ocean_proximity':\\n\", data_without_ocean_proximity)\n"
   ]
  },
  {
   "cell_type": "code",
   "execution_count": 54,
   "id": "7a5ec9d4-8716-4434-83a9-db0942c6b984",
   "metadata": {
    "colab": {
     "base_uri": "https://localhost:8080/"
    },
    "id": "7a5ec9d4-8716-4434-83a9-db0942c6b984",
    "outputId": "71954772-4740-4f44-ec13-331a4e187a11"
   },
   "outputs": [
    {
     "name": "stdout",
     "output_type": "stream",
     "text": [
      "       longitude  latitude  housing_median_age  total_rooms  total_bedrooms  \\\n",
      "2782     -114.66     32.74                17.0       1388.0           386.0   \n",
      "8513     -118.31     33.89                35.0       2144.0           423.0   \n",
      "2163     -119.82     36.77                41.0       1441.0           274.0   \n",
      "5232     -118.24     33.94                42.0        380.0           106.0   \n",
      "9766     -121.66     36.37                 9.0       1580.0           287.0   \n",
      "...          ...       ...                 ...          ...             ...   \n",
      "16347    -121.35     38.02                16.0       1665.0           311.0   \n",
      "20318    -119.15     34.20                25.0       3445.0           898.0   \n",
      "2669     -115.51     33.24                32.0       1995.0           523.0   \n",
      "17536    -121.88     37.35                49.0       1728.0           350.0   \n",
      "6201     -117.89     34.08                25.0       2115.0           489.0   \n",
      "\n",
      "       population  households  median_income  \n",
      "2782        775.0       320.0         1.2049  \n",
      "8513       1192.0       417.0         4.1458  \n",
      "2163        646.0       296.0         3.0568  \n",
      "5232        411.0       100.0         0.9705  \n",
      "9766        465.0       208.0         6.1668  \n",
      "...           ...         ...            ...  \n",
      "16347      1301.0       259.0         2.8403  \n",
      "20318      5558.0       894.0         3.0972  \n",
      "2669       1069.0       410.0         1.6552  \n",
      "17536      1146.0       391.0         3.5781  \n",
      "6201       1107.0       477.0         3.1949  \n",
      "\n",
      "[16512 rows x 8 columns]\n"
     ]
    }
   ],
   "source": [
    "from sklearn.impute import SimpleImputer\n",
    "\n",
    "#As data has a normal distribution and not heavy amount of outliers then the 'mean' strategy is the method we use to normalize the dataset.\n",
    "\n",
    "# Selecting only numerical features\n",
    "numerical_features = ['longitude', 'latitude', 'housing_median_age', 'total_rooms', 'total_bedrooms', 'population', 'households', 'median_income']\n",
    "\n",
    "# Creating a SimpleImputer instance with a chosen strategy (e.g., mean)\n",
    "imputer = SimpleImputer(strategy='mean')\n",
    "\n",
    "# Fitting the imputer on the data and transforming it to fill missing values\n",
    "data_without_ocean_proximity[numerical_features] = imputer.fit_transform(data_without_ocean_proximity[numerical_features])\n",
    "\n",
    "print(data_without_ocean_proximity)\n",
    "\n"
   ]
  },
  {
   "cell_type": "code",
   "execution_count": 55,
   "id": "3b6f7bbb-0951-44be-b07a-77b9c7cc3dc3",
   "metadata": {
    "colab": {
     "base_uri": "https://localhost:8080/",
     "height": 383
    },
    "id": "3b6f7bbb-0951-44be-b07a-77b9c7cc3dc3",
    "outputId": "b79c6d94-5301-4006-9249-59763e99f204"
   },
   "outputs": [
    {
     "data": {
      "text/html": [
       "\n",
       "  <div id=\"df-98bf75d9-c250-4688-8c5c-5a4ac86492db\" class=\"colab-df-container\">\n",
       "    <div>\n",
       "<style scoped>\n",
       "    .dataframe tbody tr th:only-of-type {\n",
       "        vertical-align: middle;\n",
       "    }\n",
       "\n",
       "    .dataframe tbody tr th {\n",
       "        vertical-align: top;\n",
       "    }\n",
       "\n",
       "    .dataframe thead th {\n",
       "        text-align: right;\n",
       "    }\n",
       "</style>\n",
       "<table border=\"1\" class=\"dataframe\">\n",
       "  <thead>\n",
       "    <tr style=\"text-align: right;\">\n",
       "      <th></th>\n",
       "      <th>longitude</th>\n",
       "      <th>latitude</th>\n",
       "      <th>housing_median_age</th>\n",
       "      <th>total_rooms</th>\n",
       "      <th>total_bedrooms</th>\n",
       "      <th>population</th>\n",
       "      <th>households</th>\n",
       "      <th>median_income</th>\n",
       "      <th>rooms_per_household</th>\n",
       "      <th>population_per_household</th>\n",
       "      <th>bedrooms_per_room</th>\n",
       "    </tr>\n",
       "  </thead>\n",
       "  <tbody>\n",
       "    <tr>\n",
       "      <th>0</th>\n",
       "      <td>-114.66</td>\n",
       "      <td>32.74</td>\n",
       "      <td>17.0</td>\n",
       "      <td>1388.0</td>\n",
       "      <td>386.0</td>\n",
       "      <td>775.0</td>\n",
       "      <td>320.0</td>\n",
       "      <td>1.2049</td>\n",
       "      <td>4.337500</td>\n",
       "      <td>2.421875</td>\n",
       "      <td>0.278098</td>\n",
       "    </tr>\n",
       "    <tr>\n",
       "      <th>1</th>\n",
       "      <td>-118.31</td>\n",
       "      <td>33.89</td>\n",
       "      <td>35.0</td>\n",
       "      <td>2144.0</td>\n",
       "      <td>423.0</td>\n",
       "      <td>1192.0</td>\n",
       "      <td>417.0</td>\n",
       "      <td>4.1458</td>\n",
       "      <td>5.141487</td>\n",
       "      <td>2.858513</td>\n",
       "      <td>0.197295</td>\n",
       "    </tr>\n",
       "    <tr>\n",
       "      <th>2</th>\n",
       "      <td>-119.82</td>\n",
       "      <td>36.77</td>\n",
       "      <td>41.0</td>\n",
       "      <td>1441.0</td>\n",
       "      <td>274.0</td>\n",
       "      <td>646.0</td>\n",
       "      <td>296.0</td>\n",
       "      <td>3.0568</td>\n",
       "      <td>4.868243</td>\n",
       "      <td>2.182432</td>\n",
       "      <td>0.190146</td>\n",
       "    </tr>\n",
       "    <tr>\n",
       "      <th>3</th>\n",
       "      <td>-118.24</td>\n",
       "      <td>33.94</td>\n",
       "      <td>42.0</td>\n",
       "      <td>380.0</td>\n",
       "      <td>106.0</td>\n",
       "      <td>411.0</td>\n",
       "      <td>100.0</td>\n",
       "      <td>0.9705</td>\n",
       "      <td>3.800000</td>\n",
       "      <td>4.110000</td>\n",
       "      <td>0.278947</td>\n",
       "    </tr>\n",
       "    <tr>\n",
       "      <th>4</th>\n",
       "      <td>-121.66</td>\n",
       "      <td>36.37</td>\n",
       "      <td>9.0</td>\n",
       "      <td>1580.0</td>\n",
       "      <td>287.0</td>\n",
       "      <td>465.0</td>\n",
       "      <td>208.0</td>\n",
       "      <td>6.1668</td>\n",
       "      <td>7.596154</td>\n",
       "      <td>2.235577</td>\n",
       "      <td>0.181646</td>\n",
       "    </tr>\n",
       "    <tr>\n",
       "      <th>5</th>\n",
       "      <td>-121.85</td>\n",
       "      <td>37.36</td>\n",
       "      <td>15.0</td>\n",
       "      <td>3148.0</td>\n",
       "      <td>1116.0</td>\n",
       "      <td>3556.0</td>\n",
       "      <td>1037.0</td>\n",
       "      <td>3.0466</td>\n",
       "      <td>3.035680</td>\n",
       "      <td>3.429122</td>\n",
       "      <td>0.354511</td>\n",
       "    </tr>\n",
       "    <tr>\n",
       "      <th>6</th>\n",
       "      <td>-122.49</td>\n",
       "      <td>37.79</td>\n",
       "      <td>52.0</td>\n",
       "      <td>2488.0</td>\n",
       "      <td>281.0</td>\n",
       "      <td>805.0</td>\n",
       "      <td>295.0</td>\n",
       "      <td>10.7058</td>\n",
       "      <td>8.433898</td>\n",
       "      <td>2.728814</td>\n",
       "      <td>0.112942</td>\n",
       "    </tr>\n",
       "    <tr>\n",
       "      <th>7</th>\n",
       "      <td>-117.87</td>\n",
       "      <td>33.76</td>\n",
       "      <td>6.0</td>\n",
       "      <td>2992.0</td>\n",
       "      <td>1194.0</td>\n",
       "      <td>3800.0</td>\n",
       "      <td>1130.0</td>\n",
       "      <td>2.2460</td>\n",
       "      <td>2.647788</td>\n",
       "      <td>3.362832</td>\n",
       "      <td>0.399064</td>\n",
       "    </tr>\n",
       "    <tr>\n",
       "      <th>8</th>\n",
       "      <td>-118.22</td>\n",
       "      <td>33.88</td>\n",
       "      <td>35.0</td>\n",
       "      <td>998.0</td>\n",
       "      <td>313.0</td>\n",
       "      <td>1335.0</td>\n",
       "      <td>311.0</td>\n",
       "      <td>1.6574</td>\n",
       "      <td>3.209003</td>\n",
       "      <td>4.292605</td>\n",
       "      <td>0.313627</td>\n",
       "    </tr>\n",
       "    <tr>\n",
       "      <th>9</th>\n",
       "      <td>-122.20</td>\n",
       "      <td>39.15</td>\n",
       "      <td>33.0</td>\n",
       "      <td>1064.0</td>\n",
       "      <td>174.0</td>\n",
       "      <td>434.0</td>\n",
       "      <td>147.0</td>\n",
       "      <td>3.1250</td>\n",
       "      <td>7.238095</td>\n",
       "      <td>2.952381</td>\n",
       "      <td>0.163534</td>\n",
       "    </tr>\n",
       "  </tbody>\n",
       "</table>\n",
       "</div>\n",
       "    <div class=\"colab-df-buttons\">\n",
       "\n",
       "  <div class=\"colab-df-container\">\n",
       "    <button class=\"colab-df-convert\" onclick=\"convertToInteractive('df-98bf75d9-c250-4688-8c5c-5a4ac86492db')\"\n",
       "            title=\"Convert this dataframe to an interactive table.\"\n",
       "            style=\"display:none;\">\n",
       "\n",
       "  <svg xmlns=\"http://www.w3.org/2000/svg\" height=\"24px\" viewBox=\"0 -960 960 960\">\n",
       "    <path d=\"M120-120v-720h720v720H120Zm60-500h600v-160H180v160Zm220 220h160v-160H400v160Zm0 220h160v-160H400v160ZM180-400h160v-160H180v160Zm440 0h160v-160H620v160ZM180-180h160v-160H180v160Zm440 0h160v-160H620v160Z\"/>\n",
       "  </svg>\n",
       "    </button>\n",
       "\n",
       "  <style>\n",
       "    .colab-df-container {\n",
       "      display:flex;\n",
       "      gap: 12px;\n",
       "    }\n",
       "\n",
       "    .colab-df-convert {\n",
       "      background-color: #E8F0FE;\n",
       "      border: none;\n",
       "      border-radius: 50%;\n",
       "      cursor: pointer;\n",
       "      display: none;\n",
       "      fill: #1967D2;\n",
       "      height: 32px;\n",
       "      padding: 0 0 0 0;\n",
       "      width: 32px;\n",
       "    }\n",
       "\n",
       "    .colab-df-convert:hover {\n",
       "      background-color: #E2EBFA;\n",
       "      box-shadow: 0px 1px 2px rgba(60, 64, 67, 0.3), 0px 1px 3px 1px rgba(60, 64, 67, 0.15);\n",
       "      fill: #174EA6;\n",
       "    }\n",
       "\n",
       "    .colab-df-buttons div {\n",
       "      margin-bottom: 4px;\n",
       "    }\n",
       "\n",
       "    [theme=dark] .colab-df-convert {\n",
       "      background-color: #3B4455;\n",
       "      fill: #D2E3FC;\n",
       "    }\n",
       "\n",
       "    [theme=dark] .colab-df-convert:hover {\n",
       "      background-color: #434B5C;\n",
       "      box-shadow: 0px 1px 3px 1px rgba(0, 0, 0, 0.15);\n",
       "      filter: drop-shadow(0px 1px 2px rgba(0, 0, 0, 0.3));\n",
       "      fill: #FFFFFF;\n",
       "    }\n",
       "  </style>\n",
       "\n",
       "    <script>\n",
       "      const buttonEl =\n",
       "        document.querySelector('#df-98bf75d9-c250-4688-8c5c-5a4ac86492db button.colab-df-convert');\n",
       "      buttonEl.style.display =\n",
       "        google.colab.kernel.accessAllowed ? 'block' : 'none';\n",
       "\n",
       "      async function convertToInteractive(key) {\n",
       "        const element = document.querySelector('#df-98bf75d9-c250-4688-8c5c-5a4ac86492db');\n",
       "        const dataTable =\n",
       "          await google.colab.kernel.invokeFunction('convertToInteractive',\n",
       "                                                    [key], {});\n",
       "        if (!dataTable) return;\n",
       "\n",
       "        const docLinkHtml = 'Like what you see? Visit the ' +\n",
       "          '<a target=\"_blank\" href=https://colab.research.google.com/notebooks/data_table.ipynb>data table notebook</a>'\n",
       "          + ' to learn more about interactive tables.';\n",
       "        element.innerHTML = '';\n",
       "        dataTable['output_type'] = 'display_data';\n",
       "        await google.colab.output.renderOutput(dataTable, element);\n",
       "        const docLink = document.createElement('div');\n",
       "        docLink.innerHTML = docLinkHtml;\n",
       "        element.appendChild(docLink);\n",
       "      }\n",
       "    </script>\n",
       "  </div>\n",
       "\n",
       "\n",
       "<div id=\"df-2b21c109-f0f8-4b46-9017-a5226f44c2b2\">\n",
       "  <button class=\"colab-df-quickchart\" onclick=\"quickchart('df-2b21c109-f0f8-4b46-9017-a5226f44c2b2')\"\n",
       "            title=\"Suggest charts\"\n",
       "            style=\"display:none;\">\n",
       "\n",
       "<svg xmlns=\"http://www.w3.org/2000/svg\" height=\"24px\"viewBox=\"0 0 24 24\"\n",
       "     width=\"24px\">\n",
       "    <g>\n",
       "        <path d=\"M19 3H5c-1.1 0-2 .9-2 2v14c0 1.1.9 2 2 2h14c1.1 0 2-.9 2-2V5c0-1.1-.9-2-2-2zM9 17H7v-7h2v7zm4 0h-2V7h2v10zm4 0h-2v-4h2v4z\"/>\n",
       "    </g>\n",
       "</svg>\n",
       "  </button>\n",
       "\n",
       "<style>\n",
       "  .colab-df-quickchart {\n",
       "      --bg-color: #E8F0FE;\n",
       "      --fill-color: #1967D2;\n",
       "      --hover-bg-color: #E2EBFA;\n",
       "      --hover-fill-color: #174EA6;\n",
       "      --disabled-fill-color: #AAA;\n",
       "      --disabled-bg-color: #DDD;\n",
       "  }\n",
       "\n",
       "  [theme=dark] .colab-df-quickchart {\n",
       "      --bg-color: #3B4455;\n",
       "      --fill-color: #D2E3FC;\n",
       "      --hover-bg-color: #434B5C;\n",
       "      --hover-fill-color: #FFFFFF;\n",
       "      --disabled-bg-color: #3B4455;\n",
       "      --disabled-fill-color: #666;\n",
       "  }\n",
       "\n",
       "  .colab-df-quickchart {\n",
       "    background-color: var(--bg-color);\n",
       "    border: none;\n",
       "    border-radius: 50%;\n",
       "    cursor: pointer;\n",
       "    display: none;\n",
       "    fill: var(--fill-color);\n",
       "    height: 32px;\n",
       "    padding: 0;\n",
       "    width: 32px;\n",
       "  }\n",
       "\n",
       "  .colab-df-quickchart:hover {\n",
       "    background-color: var(--hover-bg-color);\n",
       "    box-shadow: 0 1px 2px rgba(60, 64, 67, 0.3), 0 1px 3px 1px rgba(60, 64, 67, 0.15);\n",
       "    fill: var(--button-hover-fill-color);\n",
       "  }\n",
       "\n",
       "  .colab-df-quickchart-complete:disabled,\n",
       "  .colab-df-quickchart-complete:disabled:hover {\n",
       "    background-color: var(--disabled-bg-color);\n",
       "    fill: var(--disabled-fill-color);\n",
       "    box-shadow: none;\n",
       "  }\n",
       "\n",
       "  .colab-df-spinner {\n",
       "    border: 2px solid var(--fill-color);\n",
       "    border-color: transparent;\n",
       "    border-bottom-color: var(--fill-color);\n",
       "    animation:\n",
       "      spin 1s steps(1) infinite;\n",
       "  }\n",
       "\n",
       "  @keyframes spin {\n",
       "    0% {\n",
       "      border-color: transparent;\n",
       "      border-bottom-color: var(--fill-color);\n",
       "      border-left-color: var(--fill-color);\n",
       "    }\n",
       "    20% {\n",
       "      border-color: transparent;\n",
       "      border-left-color: var(--fill-color);\n",
       "      border-top-color: var(--fill-color);\n",
       "    }\n",
       "    30% {\n",
       "      border-color: transparent;\n",
       "      border-left-color: var(--fill-color);\n",
       "      border-top-color: var(--fill-color);\n",
       "      border-right-color: var(--fill-color);\n",
       "    }\n",
       "    40% {\n",
       "      border-color: transparent;\n",
       "      border-right-color: var(--fill-color);\n",
       "      border-top-color: var(--fill-color);\n",
       "    }\n",
       "    60% {\n",
       "      border-color: transparent;\n",
       "      border-right-color: var(--fill-color);\n",
       "    }\n",
       "    80% {\n",
       "      border-color: transparent;\n",
       "      border-right-color: var(--fill-color);\n",
       "      border-bottom-color: var(--fill-color);\n",
       "    }\n",
       "    90% {\n",
       "      border-color: transparent;\n",
       "      border-bottom-color: var(--fill-color);\n",
       "    }\n",
       "  }\n",
       "</style>\n",
       "\n",
       "  <script>\n",
       "    async function quickchart(key) {\n",
       "      const quickchartButtonEl =\n",
       "        document.querySelector('#' + key + ' button');\n",
       "      quickchartButtonEl.disabled = true;  // To prevent multiple clicks.\n",
       "      quickchartButtonEl.classList.add('colab-df-spinner');\n",
       "      try {\n",
       "        const charts = await google.colab.kernel.invokeFunction(\n",
       "            'suggestCharts', [key], {});\n",
       "      } catch (error) {\n",
       "        console.error('Error during call to suggestCharts:', error);\n",
       "      }\n",
       "      quickchartButtonEl.classList.remove('colab-df-spinner');\n",
       "      quickchartButtonEl.classList.add('colab-df-quickchart-complete');\n",
       "    }\n",
       "    (() => {\n",
       "      let quickchartButtonEl =\n",
       "        document.querySelector('#df-2b21c109-f0f8-4b46-9017-a5226f44c2b2 button');\n",
       "      quickchartButtonEl.style.display =\n",
       "        google.colab.kernel.accessAllowed ? 'block' : 'none';\n",
       "    })();\n",
       "  </script>\n",
       "</div>\n",
       "    </div>\n",
       "  </div>\n"
      ],
      "text/plain": [
       "   longitude  latitude  housing_median_age  total_rooms  total_bedrooms  \\\n",
       "0    -114.66     32.74                17.0       1388.0           386.0   \n",
       "1    -118.31     33.89                35.0       2144.0           423.0   \n",
       "2    -119.82     36.77                41.0       1441.0           274.0   \n",
       "3    -118.24     33.94                42.0        380.0           106.0   \n",
       "4    -121.66     36.37                 9.0       1580.0           287.0   \n",
       "5    -121.85     37.36                15.0       3148.0          1116.0   \n",
       "6    -122.49     37.79                52.0       2488.0           281.0   \n",
       "7    -117.87     33.76                 6.0       2992.0          1194.0   \n",
       "8    -118.22     33.88                35.0        998.0           313.0   \n",
       "9    -122.20     39.15                33.0       1064.0           174.0   \n",
       "\n",
       "   population  households  median_income  rooms_per_household  \\\n",
       "0       775.0       320.0         1.2049             4.337500   \n",
       "1      1192.0       417.0         4.1458             5.141487   \n",
       "2       646.0       296.0         3.0568             4.868243   \n",
       "3       411.0       100.0         0.9705             3.800000   \n",
       "4       465.0       208.0         6.1668             7.596154   \n",
       "5      3556.0      1037.0         3.0466             3.035680   \n",
       "6       805.0       295.0        10.7058             8.433898   \n",
       "7      3800.0      1130.0         2.2460             2.647788   \n",
       "8      1335.0       311.0         1.6574             3.209003   \n",
       "9       434.0       147.0         3.1250             7.238095   \n",
       "\n",
       "   population_per_household  bedrooms_per_room  \n",
       "0                  2.421875           0.278098  \n",
       "1                  2.858513           0.197295  \n",
       "2                  2.182432           0.190146  \n",
       "3                  4.110000           0.278947  \n",
       "4                  2.235577           0.181646  \n",
       "5                  3.429122           0.354511  \n",
       "6                  2.728814           0.112942  \n",
       "7                  3.362832           0.399064  \n",
       "8                  4.292605           0.313627  \n",
       "9                  2.952381           0.163534  "
      ]
     },
     "execution_count": 55,
     "metadata": {},
     "output_type": "execute_result"
    }
   ],
   "source": [
    "imputed_data_df = pd.DataFrame(data_without_ocean_proximity, columns=numerical_features)\n",
    "import numpy as np\n",
    "from sklearn.base import BaseEstimator, TransformerMixin\n",
    "rooms_ix,bedrooms_ix,population_ix,household_ix=3,4,5,6\n",
    "\n",
    "class CombinedAttributesAdder(BaseEstimator,TransformerMixin):\n",
    "    def fit(self,x,y=None):\n",
    "        return self\n",
    "    def transform(self,x,y=None):\n",
    "        rooms_per_household=x[:,rooms_ix]/x[:,household_ix]\n",
    "        population_per_household=x[:,population_ix]/x[:,household_ix]\n",
    "        bedrooms_per_room=x[:,bedrooms_ix]/x[:,rooms_ix]\n",
    "        return np.c_[x,rooms_per_household,population_per_household,bedrooms_per_room]\n",
    "\n",
    "custom=CombinedAttributesAdder()\n",
    "data_custom_tr_top=custom.transform(imputed_data_df.values)\n",
    "data_custom_tr=pd.DataFrame(data_custom_tr_top)\n",
    "columns=list(imputed_data_df)\n",
    "columns.append('rooms_per_household')\n",
    "columns.append('population_per_household')\n",
    "columns.append('bedrooms_per_room')\n",
    "data_custom_tr.columns=columns\n",
    "data_custom_tr.head(10)"
   ]
  },
  {
   "cell_type": "code",
   "execution_count": 56,
   "id": "ec556363-8a87-46f8-a592-7ca3eefc0b1d",
   "metadata": {
    "colab": {
     "base_uri": "https://localhost:8080/"
    },
    "id": "ec556363-8a87-46f8-a592-7ca3eefc0b1d",
    "outputId": "a271d537-9b1c-4c02-f650-34cfc52da2d5"
   },
   "outputs": [
    {
     "name": "stdout",
     "output_type": "stream",
     "text": [
      "       longitude  latitude  housing_median_age  total_rooms  total_bedrooms  \\\n",
      "0       2.453114 -1.356402           -0.919431    -0.567531       -0.361595   \n",
      "1       0.630571 -0.818013            0.507393    -0.224185       -0.274180   \n",
      "2      -0.123413  0.530301            0.983001    -0.543460       -0.626200   \n",
      "3       0.665524 -0.794605            1.062269    -1.025325       -1.023109   \n",
      "4      -1.042174  0.343035           -1.553576    -0.480332       -0.595487   \n",
      "...          ...       ...                 ...          ...             ...   \n",
      "16507  -0.887383  1.115506           -0.998699    -0.441728       -0.538786   \n",
      "16508   0.211136 -0.672882           -0.285287     0.366678        0.848031   \n",
      "16509   2.028686 -1.122320            0.269589    -0.291855       -0.037925   \n",
      "16510  -1.152026  0.801836            1.617146    -0.413116       -0.446646   \n",
      "16511   0.840288 -0.729061           -0.285287    -0.237356       -0.118252   \n",
      "\n",
      "       population  households  median_income  rooms_per_household  \\\n",
      "0       -0.568757   -0.467793      -1.405487            -0.423899   \n",
      "1       -0.205156   -0.215835       0.147943            -0.113188   \n",
      "2       -0.681238   -0.530133      -0.427284            -0.218787   \n",
      "3       -0.886145   -1.039244      -1.529301            -0.631622   \n",
      "4       -0.839060   -0.758713       1.215468             0.835447   \n",
      "...           ...         ...            ...                  ...   \n",
      "16507   -0.110114   -0.626241      -0.541642             0.384221   \n",
      "16508    3.601757    1.023174      -0.405944            -0.610959   \n",
      "16509   -0.312405   -0.234018      -1.167631            -0.219710   \n",
      "16510   -0.245266   -0.283370      -0.151925            -0.392233   \n",
      "16511   -0.279271   -0.059985      -0.354337            -0.386620   \n",
      "\n",
      "       population_per_household  bedrooms_per_room  \n",
      "0                     -0.060476           0.884580  \n",
      "1                     -0.019373          -0.246127  \n",
      "2                     -0.083016          -0.346166  \n",
      "3                      0.098435           0.896466  \n",
      "4                     -0.078014          -0.465112  \n",
      "...                         ...                ...  \n",
      "16507                  0.184396          -0.393169  \n",
      "16508                  0.296778           0.640672  \n",
      "16509                 -0.043020           0.661490  \n",
      "16510                 -0.012555          -0.172641  \n",
      "16511                 -0.069995           0.228400  \n",
      "\n",
      "[16512 rows x 11 columns]\n"
     ]
    }
   ],
   "source": [
    "from sklearn.preprocessing import StandardScaler\n",
    "\n",
    "# Selecting only numerical features\n",
    "numerical_features = ['longitude', 'latitude', 'housing_median_age', 'total_rooms', 'total_bedrooms', 'population', 'households', 'median_income', 'rooms_per_household', 'population_per_household', 'bedrooms_per_room']\n",
    "\n",
    "# Create a StandardScaler instance\n",
    "scaler = StandardScaler()\n",
    "\n",
    "# Fit the scaler on the data and transform it to standardize the features\n",
    "data_custom_tr[numerical_features] = scaler.fit_transform(data_custom_tr[numerical_features])\n",
    "\n",
    "print(data_custom_tr)"
   ]
  },
  {
   "cell_type": "code",
   "execution_count": 57,
   "id": "d1985216-bfe9-41a7-a214-61430c6e0835",
   "metadata": {
    "colab": {
     "base_uri": "https://localhost:8080/"
    },
    "id": "d1985216-bfe9-41a7-a214-61430c6e0835",
    "outputId": "f1e12647-a0d0-4898-90af-752d23d71a37"
   },
   "outputs": [
    {
     "name": "stdout",
     "output_type": "stream",
     "text": [
      "[1 0 1 ... 1 0 0]\n"
     ]
    }
   ],
   "source": [
    "from sklearn.preprocessing import LabelEncoder\n",
    "\n",
    "# Create a LabelEncoder instance\n",
    "label_encoder = LabelEncoder()\n",
    "\n",
    "# Fit and transform the 'ocean_proximity' column\n",
    "ocean_proximity_copy = label_encoder.fit_transform(ocean_proximity_copy)\n",
    "print(ocean_proximity_copy)\n"
   ]
  },
  {
   "cell_type": "code",
   "execution_count": 58,
   "id": "172c5c98-1132-4890-bc5c-4a5823c846ae",
   "metadata": {
    "colab": {
     "base_uri": "https://localhost:8080/"
    },
    "id": "172c5c98-1132-4890-bc5c-4a5823c846ae",
    "outputId": "9ce822f4-8bed-4a6c-bb4e-fb6abf4991fb"
   },
   "outputs": [
    {
     "name": "stdout",
     "output_type": "stream",
     "text": [
      "       ocean_proximity\n",
      "0                    1\n",
      "1                    0\n",
      "2                    1\n",
      "3                    0\n",
      "4                    0\n",
      "...                ...\n",
      "16507                1\n",
      "16508                4\n",
      "16509                1\n",
      "16510                0\n",
      "16511                0\n",
      "\n",
      "[16512 rows x 1 columns]\n"
     ]
    }
   ],
   "source": [
    "from sklearn.preprocessing import OneHotEncoder\n",
    "import pandas as pd\n",
    "\n",
    "# Assuming 'ocean_proximity_copy' is your encoded column as a NumPy array\n",
    "ocean_proximity_copy = ocean_proximity_copy.reshape(-1, 1)  # Reshape to a 2D array\n",
    "\n",
    "# Create a OneHotEncoder\n",
    "onehot_encoder = OneHotEncoder()\n",
    "\n",
    "# Fit and transform the specified column using the OneHotEncoder\n",
    "ocean_proximity_onehot = onehot_encoder.fit_transform(ocean_proximity_copy)\n",
    "\n",
    "# Extract the dense representation as an array\n",
    "ocean_proximity_onehot_array = ocean_proximity_onehot.toarray()\n",
    "\n",
    "# Convert to a DataFrame\n",
    "ocean_proximity_onehot_df = pd.DataFrame(ocean_proximity_onehot_array, columns=[\"ocean_proximity_0\", \"ocean_proximity_1\", \"ocean_proximity_2\", \"ocean_proximity_3\", \"ocean_proximity_4\"])\n",
    "\n",
    "# Find the index of the maximum value along the columns (axis=1)\n",
    "ocean_proximity_encoded = ocean_proximity_onehot_df.idxmax(axis=1)\n",
    "\n",
    "# Extract the numeric part from the column names\n",
    "ocean_proximity_encoded = ocean_proximity_encoded.str.extract(r'(\\d+)')\n",
    "\n",
    "# Rename the column\n",
    "ocean_proximity_encoded.columns = [\"ocean_proximity\"]\n",
    "\n",
    "# Convert the result to integers\n",
    "ocean_proximity_encoded = ocean_proximity_encoded.astype(int)\n",
    "\n",
    "# Display the resulting Series\n",
    "print(ocean_proximity_encoded)\n"
   ]
  },
  {
   "cell_type": "code",
   "execution_count": 59,
   "id": "52f3e7aa-d1bb-4f0c-977d-53bd3c8d02d0",
   "metadata": {
    "colab": {
     "base_uri": "https://localhost:8080/"
    },
    "id": "52f3e7aa-d1bb-4f0c-977d-53bd3c8d02d0",
    "outputId": "39381ec1-90b7-4662-a45b-789708c8d3af"
   },
   "outputs": [
    {
     "name": "stdout",
     "output_type": "stream",
     "text": [
      "       longitude  latitude  housing_median_age  total_rooms  total_bedrooms  \\\n",
      "0       2.453114 -1.356402           -0.919431    -0.567531       -0.361595   \n",
      "1       0.630571 -0.818013            0.507393    -0.224185       -0.274180   \n",
      "2      -0.123413  0.530301            0.983001    -0.543460       -0.626200   \n",
      "3       0.665524 -0.794605            1.062269    -1.025325       -1.023109   \n",
      "4      -1.042174  0.343035           -1.553576    -0.480332       -0.595487   \n",
      "...          ...       ...                 ...          ...             ...   \n",
      "16507  -0.887383  1.115506           -0.998699    -0.441728       -0.538786   \n",
      "16508   0.211136 -0.672882           -0.285287     0.366678        0.848031   \n",
      "16509   2.028686 -1.122320            0.269589    -0.291855       -0.037925   \n",
      "16510  -1.152026  0.801836            1.617146    -0.413116       -0.446646   \n",
      "16511   0.840288 -0.729061           -0.285287    -0.237356       -0.118252   \n",
      "\n",
      "       population  households  median_income  rooms_per_household  \\\n",
      "0       -0.568757   -0.467793      -1.405487            -0.423899   \n",
      "1       -0.205156   -0.215835       0.147943            -0.113188   \n",
      "2       -0.681238   -0.530133      -0.427284            -0.218787   \n",
      "3       -0.886145   -1.039244      -1.529301            -0.631622   \n",
      "4       -0.839060   -0.758713       1.215468             0.835447   \n",
      "...           ...         ...            ...                  ...   \n",
      "16507   -0.110114   -0.626241      -0.541642             0.384221   \n",
      "16508    3.601757    1.023174      -0.405944            -0.610959   \n",
      "16509   -0.312405   -0.234018      -1.167631            -0.219710   \n",
      "16510   -0.245266   -0.283370      -0.151925            -0.392233   \n",
      "16511   -0.279271   -0.059985      -0.354337            -0.386620   \n",
      "\n",
      "       population_per_household  bedrooms_per_room  ocean_proximity  \n",
      "0                     -0.060476           0.884580                1  \n",
      "1                     -0.019373          -0.246127                0  \n",
      "2                     -0.083016          -0.346166                1  \n",
      "3                      0.098435           0.896466                0  \n",
      "4                     -0.078014          -0.465112                0  \n",
      "...                         ...                ...              ...  \n",
      "16507                  0.184396          -0.393169                1  \n",
      "16508                  0.296778           0.640672                4  \n",
      "16509                 -0.043020           0.661490                1  \n",
      "16510                 -0.012555          -0.172641                0  \n",
      "16511                 -0.069995           0.228400                0  \n",
      "\n",
      "[16512 rows x 12 columns]\n"
     ]
    }
   ],
   "source": [
    "# Assuming 'data_custom_tr' is your original DataFrame and 'ocean_proximity_onehot_df' is the one-hot encoded DataFrame\n",
    "data_custom_tr = pd.concat([data_custom_tr, ocean_proximity_encoded], axis=1)\n",
    "\n",
    "\n",
    "# Display the resulting DataFrame\n",
    "print(data_custom_tr)\n"
   ]
  },
  {
   "cell_type": "markdown",
   "id": "8-om--F05HW0",
   "metadata": {
    "id": "8-om--F05HW0"
   },
   "source": [
    "# **Phase 6**\n",
    "\n",
    "\n",
    "\n",
    "\n",
    "\n",
    "\n",
    "\n",
    "---\n",
    "\n"
   ]
  },
  {
   "cell_type": "markdown",
   "id": "J2Gk0tc05Wsx",
   "metadata": {
    "id": "J2Gk0tc05Wsx"
   },
   "source": [
    "# Question 1"
   ]
  },
  {
   "cell_type": "code",
   "execution_count": 60,
   "id": "WBdbKaMH5bGC",
   "metadata": {
    "id": "WBdbKaMH5bGC"
   },
   "outputs": [],
   "source": [
    "from sklearn.model_selection import GridSearchCV"
   ]
  },
  {
   "cell_type": "markdown",
   "id": "rpUv2EXE5lmm",
   "metadata": {
    "id": "rpUv2EXE5lmm"
   },
   "source": [
    "# Question 2"
   ]
  },
  {
   "cell_type": "code",
   "execution_count": 61,
   "id": "dlIRVNSQ5oAr",
   "metadata": {
    "id": "dlIRVNSQ5oAr"
   },
   "outputs": [],
   "source": [
    "param_grid = [{'n_estimators': [3,4,6,10,30],\"max_features\":[2,6,8,15]}]"
   ]
  },
  {
   "cell_type": "markdown",
   "id": "1vGaGPZF5wZT",
   "metadata": {
    "id": "1vGaGPZF5wZT"
   },
   "source": [
    "# Question 3"
   ]
  },
  {
   "cell_type": "code",
   "execution_count": 62,
   "id": "pY8OId9-5zJn",
   "metadata": {
    "id": "pY8OId9-5zJn"
   },
   "outputs": [],
   "source": [
    "from sklearn.ensemble import RandomForestRegressor\n",
    "\n",
    "forest_reg = RandomForestRegressor()"
   ]
  },
  {
   "cell_type": "markdown",
   "id": "SJ3jn1yE7Af4",
   "metadata": {
    "id": "SJ3jn1yE7Af4"
   },
   "source": [
    "# Question 4"
   ]
  },
  {
   "cell_type": "code",
   "execution_count": 63,
   "id": "ZOS5K-Pu7DGL",
   "metadata": {
    "id": "ZOS5K-Pu7DGL"
   },
   "outputs": [],
   "source": [
    "grid_search = GridSearchCV(forest_reg, param_grid, cv=5, scoring='neg_mean_squared_error')"
   ]
  },
  {
   "cell_type": "markdown",
   "id": "rQ6zACAq7g0e",
   "metadata": {
    "id": "rQ6zACAq7g0e"
   },
   "source": [
    "# Question 5"
   ]
  },
  {
   "cell_type": "code",
   "execution_count": 64,
   "id": "ENLy0m2h7ivG",
   "metadata": {
    "colab": {
     "base_uri": "https://localhost:8080/",
     "height": 119
    },
    "id": "ENLy0m2h7ivG",
    "outputId": "f17e8417-6a91-4909-a30d-87d99839f750"
   },
   "outputs": [
    {
     "data": {
      "text/html": [
       "<style>#sk-container-id-2 {color: black;background-color: white;}#sk-container-id-2 pre{padding: 0;}#sk-container-id-2 div.sk-toggleable {background-color: white;}#sk-container-id-2 label.sk-toggleable__label {cursor: pointer;display: block;width: 100%;margin-bottom: 0;padding: 0.3em;box-sizing: border-box;text-align: center;}#sk-container-id-2 label.sk-toggleable__label-arrow:before {content: \"▸\";float: left;margin-right: 0.25em;color: #696969;}#sk-container-id-2 label.sk-toggleable__label-arrow:hover:before {color: black;}#sk-container-id-2 div.sk-estimator:hover label.sk-toggleable__label-arrow:before {color: black;}#sk-container-id-2 div.sk-toggleable__content {max-height: 0;max-width: 0;overflow: hidden;text-align: left;background-color: #f0f8ff;}#sk-container-id-2 div.sk-toggleable__content pre {margin: 0.2em;color: black;border-radius: 0.25em;background-color: #f0f8ff;}#sk-container-id-2 input.sk-toggleable__control:checked~div.sk-toggleable__content {max-height: 200px;max-width: 100%;overflow: auto;}#sk-container-id-2 input.sk-toggleable__control:checked~label.sk-toggleable__label-arrow:before {content: \"▾\";}#sk-container-id-2 div.sk-estimator input.sk-toggleable__control:checked~label.sk-toggleable__label {background-color: #d4ebff;}#sk-container-id-2 div.sk-label input.sk-toggleable__control:checked~label.sk-toggleable__label {background-color: #d4ebff;}#sk-container-id-2 input.sk-hidden--visually {border: 0;clip: rect(1px 1px 1px 1px);clip: rect(1px, 1px, 1px, 1px);height: 1px;margin: -1px;overflow: hidden;padding: 0;position: absolute;width: 1px;}#sk-container-id-2 div.sk-estimator {font-family: monospace;background-color: #f0f8ff;border: 1px dotted black;border-radius: 0.25em;box-sizing: border-box;margin-bottom: 0.5em;}#sk-container-id-2 div.sk-estimator:hover {background-color: #d4ebff;}#sk-container-id-2 div.sk-parallel-item::after {content: \"\";width: 100%;border-bottom: 1px solid gray;flex-grow: 1;}#sk-container-id-2 div.sk-label:hover label.sk-toggleable__label {background-color: #d4ebff;}#sk-container-id-2 div.sk-serial::before {content: \"\";position: absolute;border-left: 1px solid gray;box-sizing: border-box;top: 0;bottom: 0;left: 50%;z-index: 0;}#sk-container-id-2 div.sk-serial {display: flex;flex-direction: column;align-items: center;background-color: white;padding-right: 0.2em;padding-left: 0.2em;position: relative;}#sk-container-id-2 div.sk-item {position: relative;z-index: 1;}#sk-container-id-2 div.sk-parallel {display: flex;align-items: stretch;justify-content: center;background-color: white;position: relative;}#sk-container-id-2 div.sk-item::before, #sk-container-id-2 div.sk-parallel-item::before {content: \"\";position: absolute;border-left: 1px solid gray;box-sizing: border-box;top: 0;bottom: 0;left: 50%;z-index: -1;}#sk-container-id-2 div.sk-parallel-item {display: flex;flex-direction: column;z-index: 1;position: relative;background-color: white;}#sk-container-id-2 div.sk-parallel-item:first-child::after {align-self: flex-end;width: 50%;}#sk-container-id-2 div.sk-parallel-item:last-child::after {align-self: flex-start;width: 50%;}#sk-container-id-2 div.sk-parallel-item:only-child::after {width: 0;}#sk-container-id-2 div.sk-dashed-wrapped {border: 1px dashed gray;margin: 0 0.4em 0.5em 0.4em;box-sizing: border-box;padding-bottom: 0.4em;background-color: white;}#sk-container-id-2 div.sk-label label {font-family: monospace;font-weight: bold;display: inline-block;line-height: 1.2em;}#sk-container-id-2 div.sk-label-container {text-align: center;}#sk-container-id-2 div.sk-container {/* jupyter's `normalize.less` sets `[hidden] { display: none; }` but bootstrap.min.css set `[hidden] { display: none !important; }` so we also need the `!important` here to be able to override the default hidden behavior on the sphinx rendered scikit-learn.org. See: https://github.com/scikit-learn/scikit-learn/issues/21755 */display: inline-block !important;position: relative;}#sk-container-id-2 div.sk-text-repr-fallback {display: none;}</style><div id=\"sk-container-id-2\" class=\"sk-top-container\"><div class=\"sk-text-repr-fallback\"><pre>GridSearchCV(cv=5, estimator=RandomForestRegressor(),\n",
       "             param_grid=[{&#x27;max_features&#x27;: [2, 6, 8, 15],\n",
       "                          &#x27;n_estimators&#x27;: [3, 4, 6, 10, 30]}],\n",
       "             scoring=&#x27;neg_mean_squared_error&#x27;)</pre><b>In a Jupyter environment, please rerun this cell to show the HTML representation or trust the notebook. <br />On GitHub, the HTML representation is unable to render, please try loading this page with nbviewer.org.</b></div><div class=\"sk-container\" hidden><div class=\"sk-item sk-dashed-wrapped\"><div class=\"sk-label-container\"><div class=\"sk-label sk-toggleable\"><input class=\"sk-toggleable__control sk-hidden--visually\" id=\"sk-estimator-id-4\" type=\"checkbox\" ><label for=\"sk-estimator-id-4\" class=\"sk-toggleable__label sk-toggleable__label-arrow\">GridSearchCV</label><div class=\"sk-toggleable__content\"><pre>GridSearchCV(cv=5, estimator=RandomForestRegressor(),\n",
       "             param_grid=[{&#x27;max_features&#x27;: [2, 6, 8, 15],\n",
       "                          &#x27;n_estimators&#x27;: [3, 4, 6, 10, 30]}],\n",
       "             scoring=&#x27;neg_mean_squared_error&#x27;)</pre></div></div></div><div class=\"sk-parallel\"><div class=\"sk-parallel-item\"><div class=\"sk-item\"><div class=\"sk-label-container\"><div class=\"sk-label sk-toggleable\"><input class=\"sk-toggleable__control sk-hidden--visually\" id=\"sk-estimator-id-5\" type=\"checkbox\" ><label for=\"sk-estimator-id-5\" class=\"sk-toggleable__label sk-toggleable__label-arrow\">estimator: RandomForestRegressor</label><div class=\"sk-toggleable__content\"><pre>RandomForestRegressor()</pre></div></div></div><div class=\"sk-serial\"><div class=\"sk-item\"><div class=\"sk-estimator sk-toggleable\"><input class=\"sk-toggleable__control sk-hidden--visually\" id=\"sk-estimator-id-6\" type=\"checkbox\" ><label for=\"sk-estimator-id-6\" class=\"sk-toggleable__label sk-toggleable__label-arrow\">RandomForestRegressor</label><div class=\"sk-toggleable__content\"><pre>RandomForestRegressor()</pre></div></div></div></div></div></div></div></div></div></div>"
      ],
      "text/plain": [
       "GridSearchCV(cv=5, estimator=RandomForestRegressor(),\n",
       "             param_grid=[{'max_features': [2, 6, 8, 15],\n",
       "                          'n_estimators': [3, 4, 6, 10, 30]}],\n",
       "             scoring='neg_mean_squared_error')"
      ]
     },
     "execution_count": 64,
     "metadata": {},
     "output_type": "execute_result"
    }
   ],
   "source": [
    "housing_prepared = data_custom_tr\n",
    "\n",
    "grid_search.fit(housing_prepared,label)"
   ]
  },
  {
   "cell_type": "markdown",
   "id": "nyC4RgJj8aKH",
   "metadata": {
    "id": "nyC4RgJj8aKH"
   },
   "source": [
    "# Question 6"
   ]
  },
  {
   "cell_type": "code",
   "execution_count": 65,
   "id": "D-ejfUBD73Dm",
   "metadata": {
    "colab": {
     "base_uri": "https://localhost:8080/"
    },
    "id": "D-ejfUBD73Dm",
    "outputId": "9530baf7-0586-4b71-b15d-ccaebb281684"
   },
   "outputs": [
    {
     "name": "stdout",
     "output_type": "stream",
     "text": [
      "Best Parameters: {'max_features': 6, 'n_estimators': 30}\n",
      "Best Estimator: RandomForestRegressor(max_features=6, n_estimators=30)\n"
     ]
    }
   ],
   "source": [
    "print(\"Best Parameters:\",grid_search.best_params_)\n",
    "print(\"Best Estimator:\",grid_search.best_estimator_)"
   ]
  },
  {
   "cell_type": "code",
   "execution_count": 66,
   "id": "slWxVWQt8guy",
   "metadata": {
    "colab": {
     "base_uri": "https://localhost:8080/"
    },
    "id": "slWxVWQt8guy",
    "outputId": "4a0bad18-df65-4368-bee5-f306a45b43d2"
   },
   "outputs": [
    {
     "name": "stdout",
     "output_type": "stream",
     "text": [
      "{'mean_fit_time': array([0.10313444, 0.13393488, 0.19527888, 0.32224717, 1.13421736,\n",
      "       0.25735917, 0.30949469, 0.45534444, 0.75642633, 2.47589002,\n",
      "       0.2967093 , 0.49803123, 0.6942904 , 0.97591653, 3.12618999,\n",
      "       0.5403758 , 0.68768387, 0.85497618, 1.6344873 , 4.44740582]), 'std_fit_time': array([0.01180398, 0.00914208, 0.00504204, 0.0107992 , 0.24285171,\n",
      "       0.03882848, 0.00815668, 0.00979545, 0.01169955, 0.27553053,\n",
      "       0.0095715 , 0.09050062, 0.11848975, 0.01619386, 0.43336873,\n",
      "       0.0857424 , 0.12450111, 0.01610954, 0.25584073, 0.4613414 ]), 'mean_score_time': array([0.00645442, 0.00754094, 0.01056571, 0.01452222, 0.04773889,\n",
      "       0.00672321, 0.00893092, 0.01183057, 0.0156601 , 0.04554009,\n",
      "       0.0065423 , 0.00967441, 0.01068983, 0.0173471 , 0.04404416,\n",
      "       0.00914683, 0.00927792, 0.01156096, 0.01715384, 0.04395938]), 'std_score_time': array([0.00069559, 0.00029867, 0.00088936, 0.00013813, 0.00709319,\n",
      "       0.00114386, 0.00078368, 0.00147939, 0.00123108, 0.00426358,\n",
      "       0.00053698, 0.00173619, 0.00106225, 0.0025482 , 0.00329144,\n",
      "       0.00128534, 0.00155225, 0.00136622, 0.00328853, 0.0026775 ]), 'param_max_features': masked_array(data=[2, 2, 2, 2, 2, 6, 6, 6, 6, 6, 8, 8, 8, 8, 8, 15, 15,\n",
      "                   15, 15, 15],\n",
      "             mask=[False, False, False, False, False, False, False, False,\n",
      "                   False, False, False, False, False, False, False, False,\n",
      "                   False, False, False, False],\n",
      "       fill_value='?',\n",
      "            dtype=object), 'param_n_estimators': masked_array(data=[3, 4, 6, 10, 30, 3, 4, 6, 10, 30, 3, 4, 6, 10, 30, 3,\n",
      "                   4, 6, 10, 30],\n",
      "             mask=[False, False, False, False, False, False, False, False,\n",
      "                   False, False, False, False, False, False, False, False,\n",
      "                   False, False, False, False],\n",
      "       fill_value='?',\n",
      "            dtype=object), 'params': [{'max_features': 2, 'n_estimators': 3}, {'max_features': 2, 'n_estimators': 4}, {'max_features': 2, 'n_estimators': 6}, {'max_features': 2, 'n_estimators': 10}, {'max_features': 2, 'n_estimators': 30}, {'max_features': 6, 'n_estimators': 3}, {'max_features': 6, 'n_estimators': 4}, {'max_features': 6, 'n_estimators': 6}, {'max_features': 6, 'n_estimators': 10}, {'max_features': 6, 'n_estimators': 30}, {'max_features': 8, 'n_estimators': 3}, {'max_features': 8, 'n_estimators': 4}, {'max_features': 8, 'n_estimators': 6}, {'max_features': 8, 'n_estimators': 10}, {'max_features': 8, 'n_estimators': 30}, {'max_features': 15, 'n_estimators': 3}, {'max_features': 15, 'n_estimators': 4}, {'max_features': 15, 'n_estimators': 6}, {'max_features': 15, 'n_estimators': 10}, {'max_features': 15, 'n_estimators': 30}], 'split0_test_score': array([-4.08853654e+09, -3.60774598e+09, -3.28624669e+09, -3.09127265e+09,\n",
      "       -2.72705964e+09, -3.65950622e+09, -3.49301516e+09, -2.95247306e+09,\n",
      "       -2.75333564e+09, -2.59191266e+09, -3.59414257e+09, -3.27810688e+09,\n",
      "       -2.98409158e+09, -2.72489617e+09, -2.59398776e+09, -3.53852231e+09,\n",
      "       -3.17197266e+09, -3.17941974e+09, -2.91864533e+09, -2.66009311e+09]), 'split1_test_score': array([-4.40853840e+09, -3.70828398e+09, -3.35910237e+09, -3.16137510e+09,\n",
      "       -2.73514431e+09, -3.59658804e+09, -3.15621304e+09, -2.94275902e+09,\n",
      "       -2.90782480e+09, -2.58333581e+09, -3.55488020e+09, -3.24986762e+09,\n",
      "       -2.95498031e+09, -2.80210197e+09, -2.58779399e+09, -3.42920736e+09,\n",
      "       -3.38417923e+09, -3.08698782e+09, -2.87983763e+09, -2.66553384e+09]), 'split2_test_score': array([-3.66829425e+09, -3.76940905e+09, -3.15333514e+09, -2.91255810e+09,\n",
      "       -2.65040215e+09, -3.73067928e+09, -3.00701993e+09, -2.96027749e+09,\n",
      "       -2.88490949e+09, -2.53323759e+09, -3.20487252e+09, -3.19353887e+09,\n",
      "       -2.97052142e+09, -2.73110096e+09, -2.59990506e+09, -3.66546288e+09,\n",
      "       -3.40209406e+09, -3.13800720e+09, -2.98464963e+09, -2.69116737e+09]), 'split3_test_score': array([-4.22131472e+09, -3.47310031e+09, -3.30759300e+09, -2.94108053e+09,\n",
      "       -2.63440369e+09, -3.42453359e+09, -3.21527461e+09, -2.96690346e+09,\n",
      "       -2.82126977e+09, -2.55692531e+09, -3.50187043e+09, -3.37373002e+09,\n",
      "       -3.19119290e+09, -2.69084153e+09, -2.61705704e+09, -3.57476227e+09,\n",
      "       -3.35076863e+09, -3.11948173e+09, -2.84302215e+09, -2.66963379e+09]), 'split4_test_score': array([-4.09575227e+09, -3.37958869e+09, -3.02470651e+09, -2.81819177e+09,\n",
      "       -2.63713952e+09, -3.40753049e+09, -3.22050431e+09, -2.93495500e+09,\n",
      "       -2.48700559e+09, -2.34142437e+09, -3.54953361e+09, -3.01118374e+09,\n",
      "       -2.91384497e+09, -2.80667670e+09, -2.43877287e+09, -3.24360657e+09,\n",
      "       -3.15518481e+09, -2.88360652e+09, -2.70398486e+09, -2.56822490e+09]), 'mean_test_score': array([-4.09648723e+09, -3.58762560e+09, -3.22619674e+09, -2.98489563e+09,\n",
      "       -2.67682986e+09, -3.56376753e+09, -3.21840541e+09, -2.95147361e+09,\n",
      "       -2.77086906e+09, -2.52136715e+09, -3.48105987e+09, -3.22128542e+09,\n",
      "       -3.00292624e+09, -2.75112347e+09, -2.56750334e+09, -3.49031228e+09,\n",
      "       -3.29283988e+09, -3.08150060e+09, -2.86602792e+09, -2.65093060e+09]), 'std_test_score': array([2.43462855e+08, 1.44501832e+08, 1.21492698e+08, 1.24421649e+08,\n",
      "       4.47153971e+07, 1.27983375e+08, 1.57465190e+08, 1.15359968e+07,\n",
      "       1.51781566e+08, 9.23054459e+07, 1.41165379e+08, 1.20164524e+08,\n",
      "       9.70396191e+07, 4.56237962e+07, 6.51000919e+07, 1.44728199e+08,\n",
      "       1.06951295e+08, 1.03359465e+08, 9.36137056e+07, 4.26760972e+07]), 'rank_test_score': array([20, 19, 14,  9,  4, 18, 12,  8,  6,  1, 16, 13, 10,  5,  2, 17, 15,\n",
      "       11,  7,  3], dtype=int32)}\n"
     ]
    }
   ],
   "source": [
    "results=grid_search.cv_results_\n",
    "print(results)"
   ]
  },
  {
   "cell_type": "markdown",
   "id": "QXdwKF0587KQ",
   "metadata": {
    "id": "QXdwKF0587KQ"
   },
   "source": [
    "# Question 7"
   ]
  },
  {
   "cell_type": "code",
   "execution_count": 67,
   "id": "9aESyep38wnb",
   "metadata": {
    "colab": {
     "base_uri": "https://localhost:8080/"
    },
    "id": "9aESyep38wnb",
    "outputId": "6c00d2da-34d2-4ca2-fb94-0431dab2825a"
   },
   "outputs": [
    {
     "name": "stdout",
     "output_type": "stream",
     "text": [
      "64003.80640943929 {'max_features': 2, 'n_estimators': 3}\n",
      "59896.79124839691 {'max_features': 2, 'n_estimators': 4}\n",
      "56799.61920039817 {'max_features': 2, 'n_estimators': 6}\n",
      "54634.19835275994 {'max_features': 2, 'n_estimators': 10}\n",
      "51738.08909844773 {'max_features': 2, 'n_estimators': 30}\n",
      "59697.29914455299 {'max_features': 6, 'n_estimators': 3}\n",
      "56730.99160340931 {'max_features': 6, 'n_estimators': 4}\n",
      "54327.46640635574 {'max_features': 6, 'n_estimators': 6}\n",
      "52639.04501112476 {'max_features': 6, 'n_estimators': 10}\n",
      "50213.216859778375 {'max_features': 6, 'n_estimators': 30}\n",
      "59000.50732979773 {'max_features': 8, 'n_estimators': 3}\n",
      "56756.36901471981 {'max_features': 8, 'n_estimators': 4}\n",
      "54798.96199937883 {'max_features': 8, 'n_estimators': 6}\n",
      "52451.15313581154 {'max_features': 8, 'n_estimators': 10}\n",
      "50670.53724418404 {'max_features': 8, 'n_estimators': 30}\n",
      "59078.864912725534 {'max_features': 15, 'n_estimators': 3}\n",
      "57383.271756669616 {'max_features': 15, 'n_estimators': 4}\n",
      "55511.26554572335 {'max_features': 15, 'n_estimators': 6}\n",
      "53535.29603314014 {'max_features': 15, 'n_estimators': 10}\n",
      "51487.188727479544 {'max_features': 15, 'n_estimators': 30}\n"
     ]
    }
   ],
   "source": [
    "for mean_score,params in zip(results['mean_test_score'],results[\"params\"]):\n",
    "  print(np.sqrt(-mean_score),params)"
   ]
  },
  {
   "cell_type": "markdown",
   "id": "2tMEOmgJ_juS",
   "metadata": {
    "id": "2tMEOmgJ_juS"
   },
   "source": [
    "# Question 8 and 9\n",
    "\n",
    "<div dir=\"rtl\">\n",
    "از آنجا که نوشتن پایپ لاین در فاز 4 اختیاری بود و من ننوشته ام در مرحله ی  8 همه ی کار هایی که بر روی داده آموزش انجام داده ام برای داده ی تست نیز انجام میدهم.\n",
    "</div>"
   ]
  },
  {
   "cell_type": "code",
   "execution_count": 79,
   "id": "UkPniyvK_k2D",
   "metadata": {
    "id": "UkPniyvK_k2D"
   },
   "outputs": [],
   "source": [
    "\n",
    "# Assuming X_test is your test dataset\n",
    "X_test_copy = copy.copy(X_test)\n",
    "\n",
    "# Extract the 'ocean_proximity' feature\n",
    "ocean_proximity_copy_test = X_test_copy['ocean_proximity'].copy()\n",
    "\n",
    "# Remove the 'ocean_proximity' feature from the original dataset\n",
    "data_without_ocean_proximity_test = X_test_copy.drop('ocean_proximity', axis=1)\n",
    "\n",
    "# Selecting only numerical features\n",
    "numerical_features_test = ['longitude', 'latitude', 'housing_median_age', 'total_rooms', 'total_bedrooms', 'population', 'households', 'median_income']\n",
    "\n",
    "# Creating a SimpleImputer instance with the strategy as mean\n",
    "imputer_test = SimpleImputer(strategy='mean')\n",
    "\n",
    "# Fitting the imputer on the test data and transforming it to fill missing values\n",
    "data_without_ocean_proximity_test[numerical_features_test] = imputer_test.fit_transform(data_without_ocean_proximity_test[numerical_features_test])\n",
    "\n",
    "# Creating an instance of CombinedAttributesAdder\n",
    "custom_test = CombinedAttributesAdder()\n",
    "\n",
    "# Transforming the imputed test data using CombinedAttributesAdder\n",
    "data_custom_tr_top_test = custom_test.transform(data_without_ocean_proximity_test.values)\n",
    "data_custom_tr_test = pd.DataFrame(data_custom_tr_top_test)\n",
    "\n",
    "# Adding columns to the DataFrame\n",
    "columns_test = list(data_without_ocean_proximity_test)\n",
    "columns_test.append('rooms_per_household')\n",
    "columns_test.append('population_per_household')\n",
    "columns_test.append('bedrooms_per_room')\n",
    "data_custom_tr_test.columns = columns_test\n",
    "\n",
    "# Selecting only numerical features\n",
    "numerical_features_test = ['longitude', 'latitude', 'housing_median_age', 'total_rooms', 'total_bedrooms', 'population', 'households', 'median_income', 'rooms_per_household', 'population_per_household', 'bedrooms_per_room']\n",
    "\n",
    "# Create a StandardScaler instance\n",
    "scaler_test = StandardScaler()\n",
    "\n",
    "# Fit the scaler on the test data and transform it to standardize the features\n",
    "data_custom_tr_test[numerical_features_test] = scaler_test.fit_transform(data_custom_tr_test[numerical_features_test])\n",
    "\n",
    "# Create a LabelEncoder instance\n",
    "label_encoder = LabelEncoder()\n",
    "\n",
    "# Fit and transform the 'ocean_proximity' column\n",
    "ocean_proximity_copy_encoded = label_encoder.fit_transform(ocean_proximity_copy_test)\n",
    "\n",
    "# Reshape to a 2D array\n",
    "ocean_proximity_copy_encoded = ocean_proximity_copy_encoded.reshape(-1, 1)\n",
    "\n",
    "# Create a OneHotEncoder\n",
    "onehot_encoder = OneHotEncoder()\n",
    "ocean_proximity_onehot = onehot_encoder.fit_transform(ocean_proximity_copy_encoded)\n",
    "\n",
    "# Convert to a DataFrame\n",
    "ocean_proximity_onehot_df = pd.DataFrame(ocean_proximity_onehot.toarray(), columns=[\"ocean_proximity_0\", \"ocean_proximity_1\", \"ocean_proximity_2\", \"ocean_proximity_3\", \"ocean_proximity_4\"])\n",
    "\n",
    "# Find the index of the maximum value along the columns (axis=1)\n",
    "ocean_proximity_copy_encoded = ocean_proximity_onehot_df.idxmax(axis=1)\n",
    "\n",
    "# Extract the numeric part from the column names\n",
    "ocean_proximity_copy_encoded = ocean_proximity_copy_encoded.str.extract(r'(\\d+)')\n",
    "\n",
    "# Rename the column\n",
    "ocean_proximity_copy_encoded.columns = [\"ocean_proximity\"]\n",
    "\n",
    "# Convert the result to integers\n",
    "ocean_proximity_copy_encoded = ocean_proximity_copy_encoded.astype(int)\n",
    "\n",
    "# Assuming 'data_custom_tr' is your original DataFrame and 'ocean_proximity_onehot_df' is the one-hot encoded DataFrame\n",
    "data_custom_tr_test = pd.concat([data_custom_tr_test, ocean_proximity_copy_encoded], axis=1)\n",
    "\n"
   ]
  },
  {
   "cell_type": "code",
   "execution_count": 80,
   "id": "SZEI-IOsAD1z",
   "metadata": {
    "colab": {
     "base_uri": "https://localhost:8080/"
    },
    "id": "SZEI-IOsAD1z",
    "outputId": "46ff7ee0-0da8-40f3-eafa-f74daa2fedac"
   },
   "outputs": [
    {
     "name": "stdout",
     "output_type": "stream",
     "text": [
      "      longitude  latitude  housing_median_age  total_rooms  total_bedrooms  \\\n",
      "0     -1.342007  1.165986            1.861474    -1.134358       -1.110194   \n",
      "1     -0.883515  1.119155            0.256661     0.879576        0.982852   \n",
      "2     -0.155909  0.552506           -1.749355    -0.331834       -0.283404   \n",
      "3      1.179697 -1.339447            0.336902    -0.721182       -0.539138   \n",
      "4      0.626517 -0.852410           -0.625986    -0.743580       -0.621072   \n",
      "...         ...       ...                 ...          ...             ...   \n",
      "4123   0.721205 -0.740016            0.577624    -0.541043       -0.539138   \n",
      "4124   0.905599 -0.735333           -0.144542    -0.196968       -0.231264   \n",
      "4125  -1.122728  0.763243           -0.625986     0.296269        0.190821   \n",
      "4126  -1.436696  1.011445            1.861474     0.036545        0.282687   \n",
      "4127   0.686320 -0.814945            0.738105     0.017006        0.230547   \n",
      "\n",
      "      population  households  median_income  rooms_per_household  \\\n",
      "0      -1.160782   -1.153076      -0.825853            -0.927361   \n",
      "1       0.707295    1.040950      -0.312369            -0.177171   \n",
      "2      -0.376824   -0.291618      -0.413674            -0.225502   \n",
      "3      -0.778591   -0.614665      -0.676206            -0.645683   \n",
      "4      -0.222083   -0.601204      -0.722004            -0.772091   \n",
      "...          ...         ...            ...                  ...   \n",
      "4123   -0.400128   -0.550055      -0.188632            -0.159538   \n",
      "4124    0.530182   -0.130095      -0.440104            -0.242582   \n",
      "4125    0.521792    0.190260       0.316492             0.160746   \n",
      "4126   -0.058952    0.351784      -0.973268            -0.562658   \n",
      "4127    0.194599    0.287174      -0.071542            -0.509843   \n",
      "\n",
      "      population_per_household  bedrooms_per_room  ocean_proximity  \n",
      "0                    -0.062787           2.139062                3  \n",
      "1                    -0.067541          -0.083269                1  \n",
      "2                    -0.052183           0.064155                1  \n",
      "3                    -0.099042           1.126911                4  \n",
      "4                     0.129099           0.832579                0  \n",
      "...                        ...                ...              ...  \n",
      "4123                  0.029799          -0.019214                0  \n",
      "4124                  0.141771          -0.227004                1  \n",
      "4125                  0.041206          -0.401961                0  \n",
      "4126                 -0.100070           0.420561                3  \n",
      "4127                 -0.042902           0.353447                0  \n",
      "\n",
      "[4128 rows x 12 columns]\n"
     ]
    }
   ],
   "source": [
    "final_model = grid_search.best_estimator_\n",
    "\n",
    "# We have the transformed test data below now as X_prepared and test_labels as Y\n",
    "X_prepared = data_custom_tr_test\n",
    "Y = y_test\n",
    "\n",
    "print(X_prepared)\n",
    "\n"
   ]
  },
  {
   "cell_type": "markdown",
   "id": "tCJnvcOeEsEa",
   "metadata": {
    "id": "tCJnvcOeEsEa"
   },
   "source": [
    "# Question 10"
   ]
  },
  {
   "cell_type": "code",
   "execution_count": 94,
   "id": "IQ5HMfF_ExuH",
   "metadata": {
    "colab": {
     "base_uri": "https://localhost:8080/"
    },
    "id": "IQ5HMfF_ExuH",
    "outputId": "1d120d24-cc66-468a-8d95-1c1cf984e22d"
   },
   "outputs": [
    {
     "name": "stdout",
     "output_type": "stream",
     "text": [
      "[196170.13333333 123693.33333333  94240.         ... 213580.\n",
      " 313803.4        199386.66666667]\n"
     ]
    }
   ],
   "source": [
    "final_predictions = final_model.predict(X_prepared)\n",
    "\n",
    "print(final_predictions)"
   ]
  },
  {
   "cell_type": "markdown",
   "id": "OLFcdrtnMaR1",
   "metadata": {
    "id": "OLFcdrtnMaR1"
   },
   "source": [
    "# Question 11"
   ]
  },
  {
   "cell_type": "code",
   "execution_count": 95,
   "id": "5xq2cCNJMbog",
   "metadata": {
    "colab": {
     "base_uri": "https://localhost:8080/"
    },
    "id": "5xq2cCNJMbog",
    "outputId": "763dd9d0-410a-46a0-8662-b9caf4ee87bd"
   },
   "outputs": [
    {
     "data": {
      "text/plain": [
       "52256.85081136011"
      ]
     },
     "execution_count": 95,
     "metadata": {},
     "output_type": "execute_result"
    }
   ],
   "source": [
    "from sklearn.metrics import mean_squared_error\n",
    "\n",
    "\n",
    "final_mse= mean_squared_error(Y,final_predictions)\n",
    "final_rmse=np.sqrt(final_mse)\n",
    "final_rmse"
   ]
  },
  {
   "cell_type": "markdown",
   "id": "nAG8KujvN4sr",
   "metadata": {
    "id": "nAG8KujvN4sr"
   },
   "source": [
    "# Question 12\n",
    "\n",
    "<div dir=\"rtl\">\n",
    "مدل نهایی با مقدار خطای میانگین 52256.85081136011 دلار قابلیت پیشبینی قیمت خانه هارا دارد\n",
    "\n",
    "</div>"
   ]
  },
  {
   "cell_type": "code",
   "execution_count": null,
   "id": "RqjFf5aTN7R6",
   "metadata": {
    "id": "RqjFf5aTN7R6"
   },
   "outputs": [],
   "source": []
  }
 ],
 "metadata": {
  "colab": {
   "provenance": []
  },
  "kernelspec": {
   "display_name": "Python 3 (ipykernel)",
   "language": "python",
   "name": "python3"
  },
  "language_info": {
   "codemirror_mode": {
    "name": "ipython",
    "version": 3
   },
   "file_extension": ".py",
   "mimetype": "text/x-python",
   "name": "python",
   "nbconvert_exporter": "python",
   "pygments_lexer": "ipython3",
   "version": "3.11.5"
  }
 },
 "nbformat": 4,
 "nbformat_minor": 5
}
